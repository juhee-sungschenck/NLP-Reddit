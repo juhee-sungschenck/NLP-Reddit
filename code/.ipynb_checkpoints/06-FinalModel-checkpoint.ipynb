{
 "cells": [
  {
   "cell_type": "code",
   "execution_count": 1,
   "metadata": {},
   "outputs": [],
   "source": [
    "import pandas as pd\n",
    "import numpy as np\n",
    "import seaborn as sns\n",
    "import matplotlib.pyplot as plt\n",
    "\n",
    "from sklearn.metrics import confusion_matrix, plot_confusion_matrix\n",
    "from sklearn.model_selection import train_test_split, GridSearchCV, cross_val_score\n",
    "from sklearn.pipeline import Pipeline\n",
    "from sklearn.naive_bayes import MultinomialNB\n",
    "from sklearn.feature_extraction.text import CountVectorizer"
   ]
  },
  {
   "cell_type": "code",
   "execution_count": 2,
   "metadata": {},
   "outputs": [
    {
     "name": "stdout",
     "output_type": "stream",
     "text": [
      "(5995, 5)\n"
     ]
    },
    {
     "data": {
      "text/html": [
       "<div>\n",
       "<style scoped>\n",
       "    .dataframe tbody tr th:only-of-type {\n",
       "        vertical-align: middle;\n",
       "    }\n",
       "\n",
       "    .dataframe tbody tr th {\n",
       "        vertical-align: top;\n",
       "    }\n",
       "\n",
       "    .dataframe thead th {\n",
       "        text-align: right;\n",
       "    }\n",
       "</style>\n",
       "<table border=\"1\" class=\"dataframe\">\n",
       "  <thead>\n",
       "    <tr style=\"text-align: right;\">\n",
       "      <th></th>\n",
       "      <th>subreddit</th>\n",
       "      <th>text_all</th>\n",
       "      <th>y</th>\n",
       "      <th>texts_cleaned</th>\n",
       "      <th>post_w_cnt</th>\n",
       "    </tr>\n",
       "  </thead>\n",
       "  <tbody>\n",
       "    <tr>\n",
       "      <th>0</th>\n",
       "      <td>relationship_advice</td>\n",
       "      <td>BI 58 Male Caught With Guy I'am a bi 58 year o...</td>\n",
       "      <td>1</td>\n",
       "      <td>bi  male caught with guy i am a year old  have...</td>\n",
       "      <td>139</td>\n",
       "    </tr>\n",
       "    <tr>\n",
       "      <th>1</th>\n",
       "      <td>legaladvice</td>\n",
       "      <td>When a dealer gets arrested do his roommates g...</td>\n",
       "      <td>0</td>\n",
       "      <td>when a dealer get arrested do his roommate get...</td>\n",
       "      <td>36</td>\n",
       "    </tr>\n",
       "    <tr>\n",
       "      <th>2</th>\n",
       "      <td>relationship_advice</td>\n",
       "      <td>My(14M) friend (14F) that I’ve been talking to...</td>\n",
       "      <td>1</td>\n",
       "      <td>my m friend f that i ve been talking to just t...</td>\n",
       "      <td>184</td>\n",
       "    </tr>\n",
       "    <tr>\n",
       "      <th>3</th>\n",
       "      <td>relationship_advice</td>\n",
       "      <td>Did my boyfriend and I make the right assumpti...</td>\n",
       "      <td>1</td>\n",
       "      <td>did my boyfriend and i make the right assumpti...</td>\n",
       "      <td>356</td>\n",
       "    </tr>\n",
       "    <tr>\n",
       "      <th>4</th>\n",
       "      <td>relationship_advice</td>\n",
       "      <td>Tough patch in our relationship of four years ...</td>\n",
       "      <td>1</td>\n",
       "      <td>tough patch in our relationship of four year m...</td>\n",
       "      <td>206</td>\n",
       "    </tr>\n",
       "  </tbody>\n",
       "</table>\n",
       "</div>"
      ],
      "text/plain": [
       "             subreddit                                           text_all  y  \\\n",
       "0  relationship_advice  BI 58 Male Caught With Guy I'am a bi 58 year o...  1   \n",
       "1          legaladvice  When a dealer gets arrested do his roommates g...  0   \n",
       "2  relationship_advice  My(14M) friend (14F) that I’ve been talking to...  1   \n",
       "3  relationship_advice  Did my boyfriend and I make the right assumpti...  1   \n",
       "4  relationship_advice  Tough patch in our relationship of four years ...  1   \n",
       "\n",
       "                                       texts_cleaned  post_w_cnt  \n",
       "0  bi  male caught with guy i am a year old  have...         139  \n",
       "1  when a dealer get arrested do his roommate get...          36  \n",
       "2  my m friend f that i ve been talking to just t...         184  \n",
       "3  did my boyfriend and i make the right assumpti...         356  \n",
       "4  tough patch in our relationship of four year m...         206  "
      ]
     },
     "execution_count": 2,
     "metadata": {},
     "output_type": "execute_result"
    }
   ],
   "source": [
    "# read in csv\n",
    "\n",
    "df = pd.read_csv('/Users/juhee/Desktop/GA/Submissions/Projects/project_3-master/data/reddit_final.csv')\n",
    "\n",
    "print(df.shape)\n",
    "df.head()"
   ]
  },
  {
   "cell_type": "markdown",
   "metadata": {},
   "source": [
    "## Best Model"
   ]
  },
  {
   "cell_type": "code",
   "execution_count": 12,
   "metadata": {},
   "outputs": [],
   "source": [
    "# set up X and y and train test split\n",
    "\n",
    "X = df['texts_cleaned']\n",
    "y = df['y']\n",
    "\n",
    "X_train, X_test, y_train, y_test = train_test_split(X, y, test_size = .33, random_state = 42, stratify = y)"
   ]
  },
  {
   "cell_type": "code",
   "execution_count": 13,
   "metadata": {},
   "outputs": [
    {
     "data": {
      "text/plain": [
       "1    0.744821\n",
       "0    0.255179\n",
       "Name: y, dtype: float64"
      ]
     },
     "execution_count": 13,
     "metadata": {},
     "output_type": "execute_result"
    }
   ],
   "source": [
    "# establish baseline accuracy\n",
    "\n",
    "y_test.value_counts(normalize = True)"
   ]
  },
  {
   "cell_type": "markdown",
   "metadata": {},
   "source": [
    "### CountVectorizer() with Multinomial Naive Bayes"
   ]
  },
  {
   "cell_type": "code",
   "execution_count": 27,
   "metadata": {},
   "outputs": [],
   "source": [
    "# set a pipeline with Multinomial Bayes\n",
    "\n",
    "pipeline_nb = Pipeline([\n",
    "                       ('cvec', CountVectorizer()),\n",
    "                       ('nb', MultinomialNB())\n",
    "                       ])\n",
    "\n",
    "param_grid = {\n",
    "    'cvec__max_features': [6000],\n",
    "    'cvec__min_df': [1],\n",
    "    'cvec__max_df': [0.85],\n",
    "    'cvec__stop_words': [None]\n",
    "}"
   ]
  },
  {
   "cell_type": "code",
   "execution_count": 28,
   "metadata": {},
   "outputs": [],
   "source": [
    "# instantiate GridSearchCV - NaiveBayes\n",
    "\n",
    "gs = GridSearchCV(pipeline_nb, \n",
    "                  param_grid = param_grid,\n",
    "                  cv = 5) "
   ]
  },
  {
   "cell_type": "code",
   "execution_count": 29,
   "metadata": {},
   "outputs": [
    {
     "data": {
      "text/plain": [
       "0.9322710854197258"
      ]
     },
     "execution_count": 29,
     "metadata": {},
     "output_type": "execute_result"
    }
   ],
   "source": [
    "# cross validation\n",
    "\n",
    "cross_val_score(pipeline_nb, X_train, y_train).mean()"
   ]
  },
  {
   "cell_type": "code",
   "execution_count": 30,
   "metadata": {},
   "outputs": [
    {
     "data": {
      "text/plain": [
       "GridSearchCV(cv=5,\n",
       "             estimator=Pipeline(steps=[('cvec', CountVectorizer()),\n",
       "                                       ('nb', MultinomialNB())]),\n",
       "             param_grid={'cvec__max_df': [0.85], 'cvec__max_features': [6000],\n",
       "                         'cvec__min_df': [1], 'cvec__stop_words': [None]})"
      ]
     },
     "execution_count": 30,
     "metadata": {},
     "output_type": "execute_result"
    }
   ],
   "source": [
    "# fit the training set\n",
    "\n",
    "gs.fit(X_train, y_train)"
   ]
  },
  {
   "cell_type": "code",
   "execution_count": 31,
   "metadata": {},
   "outputs": [
    {
     "name": "stdout",
     "output_type": "stream",
     "text": [
      "Multinomial Naive Bayes: 0.9509462151394422\n"
     ]
    }
   ],
   "source": [
    "# train set score\n",
    "\n",
    "print(f'Multinomial Naive Bayes: {gs.score(X_train, y_train)}')"
   ]
  },
  {
   "cell_type": "code",
   "execution_count": 32,
   "metadata": {},
   "outputs": [
    {
     "name": "stdout",
     "output_type": "stream",
     "text": [
      "Multinomial Naive Bayes: 0.9388580090955028\n"
     ]
    }
   ],
   "source": [
    "# test set score\n",
    "\n",
    "print(f'Multinomial Naive Bayes: {gs.score(X_test, y_test)}')"
   ]
  },
  {
   "cell_type": "code",
   "execution_count": 33,
   "metadata": {},
   "outputs": [],
   "source": [
    "# predictions\n",
    "\n",
    "y_preds = gs.predict(X_test)\n",
    "\n",
    "# confusion matrix values\n",
    "\n",
    "tn, fp, fn, tp = confusion_matrix(y_test, y_preds).ravel()"
   ]
  },
  {
   "cell_type": "code",
   "execution_count": 34,
   "metadata": {},
   "outputs": [
    {
     "data": {
      "image/png": "[encoded data removed]",
      "text/plain": [
       "<Figure size 432x288 with 2 Axes>"
      ]
     },
     "metadata": {
      "needs_background": "light"
     },
     "output_type": "display_data"
    },
    {
     "data": {
      "image/png": "[encoded data removed]",
      "text/plain": [
       "<Figure size 432x288 with 2 Axes>"
      ]
     },
     "metadata": {
      "needs_background": "light"
     },
     "output_type": "display_data"
    }
   ],
   "source": [
    "# view confusion matrix\n",
    "\n",
    "# not normalized\n",
    "plot_confusion_matrix(gs, X_test, y_test, cmap = 'Purples')\n",
    "plt.savefig('./images/confusion_raw.png');\n",
    "\n",
    "# normalized\n",
    "plot_confusion_matrix(gs, X_test, y_test, cmap = 'Purples', normalize = 'true')\n",
    "plt.savefig('./images/confusion_normal.png');"
   ]
  },
  {
   "cell_type": "code",
   "execution_count": 35,
   "metadata": {},
   "outputs": [
    {
     "name": "stdout",
     "output_type": "stream",
     "text": [
      "Sensitivity: 0.9491180461329715\n",
      "Specificity: 0.9089108910891089\n"
     ]
    }
   ],
   "source": [
    "# calculate sensitivity and specificity\n",
    "\n",
    "sensitivity = tp / (tp + fn)\n",
    "specificity = tn / (tn + fp)\n",
    "\n",
    "print(f'Sensitivity: {sensitivity}')\n",
    "print(f'Specificity: {specificity}')"
   ]
  },
  {
   "cell_type": "code",
   "execution_count": 36,
   "metadata": {},
   "outputs": [
    {
     "name": "stdout",
     "output_type": "stream",
     "text": [
      "Precision: 0.9681660899653979\n",
      "Accuracy: 0.9388580090955028\n"
     ]
    }
   ],
   "source": [
    "# precision and accuracy\n",
    "\n",
    "precision = tp / (tp + fp)\n",
    "accuracy = (tp + tn) / (tp + tn + fp + fn)\n",
    "\n",
    "print(f'Precision: {precision}')\n",
    "print(f'Accuracy: {accuracy}')"
   ]
  },
  {
   "cell_type": "code",
   "execution_count": null,
   "metadata": {},
   "outputs": [],
   "source": []
  }
 ],
 "metadata": {
  "kernelspec": {
   "display_name": "Python 3",
   "language": "python",
   "name": "python3"
  },
  "language_info": {
   "codemirror_mode": {
    "name": "ipython",
    "version": 3
   },
   "file_extension": ".py",
   "mimetype": "text/x-python",
   "name": "python",
   "nbconvert_exporter": "python",
   "pygments_lexer": "ipython3",
   "version": "3.7.7"
  }
 },
 "nbformat": 4,
 "nbformat_minor": 4
}
