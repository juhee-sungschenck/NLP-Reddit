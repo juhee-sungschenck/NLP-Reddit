{
 "cells": [
  {
   "cell_type": "code",
   "execution_count": 6,
   "metadata": {},
   "outputs": [],
   "source": [
    "# import libraries\n",
    "\n",
    "import requests\n",
    "import time\n",
    "import pandas as pd"
   ]
  },
  {
   "cell_type": "code",
   "execution_count": 7,
   "metadata": {},
   "outputs": [],
   "source": [
    "# set up an empty list to combine gathered information\n",
    "\n",
    "posts = []"
   ]
  },
  {
   "cell_type": "code",
   "execution_count": 8,
   "metadata": {},
   "outputs": [],
   "source": [
    "# create a function to pull the information from reddit\n",
    "\n",
    "url_submission = \"https://api.pushshift.io/reddit/search/submission\"\n",
    "url_comments = \"https://api.pushshift.io/reddit/search/comment\"\n",
    "\n",
    "params = {\n",
    "          'subreddit': ['legaladvice', 'relationship_advice'],\n",
    "          'size': 100,\n",
    "          'after': ''\n",
    "         }\n",
    "\n",
    "def reddit(url, params, attempts):\n",
    "\n",
    "    # set how many times we would pull from reddit - the limit is 100 now\n",
    "    for attempt in range(attempts):\n",
    "\n",
    "        # to see where we are at with pulling\n",
    "        print(f'Initiating: {attempt + 1}')\n",
    "\n",
    "        # get the webpage status\n",
    "        res = requests.get(url, params = params)\n",
    "\n",
    "        # check the status and pull if it is 200\n",
    "        if res.status_code == 200:\n",
    "            \n",
    "            # get the info from JSON and name value of data as post \n",
    "            data = res.json()\n",
    "            post = data['data']\n",
    "            \n",
    "            # get the data \"after\" the UTC of last post of last pull\n",
    "            params['after'] = f'{10 * attempt}d'    \n",
    "            \n",
    "            # extend the data to posts (thanks, Noah!)\n",
    "            posts.extend(post) \n",
    "\n",
    "        else:\n",
    "            print(f'An error: {res.status_code}')\n",
    "            break\n",
    "        \n",
    "        # set 1 seconds to prevent from locking out\n",
    "        time.sleep(1)"
   ]
  },
  {
   "cell_type": "code",
   "execution_count": 9,
   "metadata": {},
   "outputs": [
    {
     "name": "stdout",
     "output_type": "stream",
     "text": [
      "Initiating: 1\n",
      "Initiating: 2\n",
      "Initiating: 3\n",
      "Initiating: 4\n",
      "Initiating: 5\n",
      "Initiating: 6\n",
      "Initiating: 7\n",
      "Initiating: 8\n",
      "Initiating: 9\n",
      "Initiating: 10\n",
      "Initiating: 11\n",
      "Initiating: 12\n",
      "Initiating: 13\n",
      "Initiating: 14\n",
      "Initiating: 15\n",
      "Initiating: 16\n",
      "Initiating: 17\n",
      "Initiating: 18\n",
      "Initiating: 19\n",
      "Initiating: 20\n",
      "Initiating: 21\n",
      "Initiating: 22\n",
      "Initiating: 23\n",
      "Initiating: 24\n",
      "Initiating: 25\n",
      "Initiating: 26\n",
      "Initiating: 27\n",
      "Initiating: 28\n",
      "Initiating: 29\n",
      "Initiating: 30\n",
      "Initiating: 31\n"
     ]
    }
   ],
   "source": [
    "# call in the function - submission\n",
    "\n",
    "reddit(url_submission, params, 31)"
   ]
  },
  {
   "cell_type": "code",
   "execution_count": 10,
   "metadata": {},
   "outputs": [
    {
     "name": "stdout",
     "output_type": "stream",
     "text": [
      "Initiating: 1\n",
      "Initiating: 2\n",
      "Initiating: 3\n",
      "Initiating: 4\n",
      "Initiating: 5\n",
      "Initiating: 6\n",
      "Initiating: 7\n",
      "Initiating: 8\n",
      "Initiating: 9\n",
      "Initiating: 10\n",
      "Initiating: 11\n",
      "Initiating: 12\n",
      "Initiating: 13\n",
      "Initiating: 14\n",
      "Initiating: 15\n",
      "Initiating: 16\n",
      "Initiating: 17\n",
      "Initiating: 18\n",
      "Initiating: 19\n",
      "Initiating: 20\n",
      "Initiating: 21\n",
      "Initiating: 22\n",
      "Initiating: 23\n",
      "Initiating: 24\n",
      "Initiating: 25\n",
      "Initiating: 26\n",
      "Initiating: 27\n",
      "Initiating: 28\n",
      "Initiating: 29\n",
      "Initiating: 30\n",
      "Initiating: 31\n"
     ]
    }
   ],
   "source": [
    "# call in the function - comments\n",
    "\n",
    "reddit(url_comments, params, 31)"
   ]
  },
  {
   "cell_type": "code",
   "execution_count": 11,
   "metadata": {},
   "outputs": [
    {
     "data": {
      "text/plain": [
       "6000"
      ]
     },
     "execution_count": 11,
     "metadata": {},
     "output_type": "execute_result"
    }
   ],
   "source": [
    "# check the length of posts\n",
    "\n",
    "len(posts)"
   ]
  },
  {
   "cell_type": "code",
   "execution_count": 12,
   "metadata": {},
   "outputs": [],
   "source": [
    "# make it into a dataframe\n",
    "\n",
    "df = pd.DataFrame(posts)"
   ]
  },
  {
   "cell_type": "code",
   "execution_count": 13,
   "metadata": {},
   "outputs": [],
   "source": [
    "# save it into a csv\n",
    "\n",
    "df.to_csv('/Users/juhee/Desktop/GA/Submissions/Projects/project_3-master/data/reddit.csv', index = False)"
   ]
  },
  {
   "cell_type": "code",
   "execution_count": null,
   "metadata": {},
   "outputs": [],
   "source": []
  }
 ],
 "metadata": {
  "kernelspec": {
   "display_name": "Python 3",
   "language": "python",
   "name": "python3"
  },
  "language_info": {
   "codemirror_mode": {
    "name": "ipython",
    "version": 3
   },
   "file_extension": ".py",
   "mimetype": "text/x-python",
   "name": "python",
   "nbconvert_exporter": "python",
   "pygments_lexer": "ipython3",
   "version": "3.7.7"
  }
 },
 "nbformat": 4,
 "nbformat_minor": 4
}
