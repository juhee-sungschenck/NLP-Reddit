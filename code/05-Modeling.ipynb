{
 "cells": [
  {
   "cell_type": "code",
   "execution_count": 281,
   "metadata": {},
   "outputs": [],
   "source": [
    "import pandas as pd\n",
    "import numpy as np\n",
    "import seaborn as sns\n",
    "import matplotlib.pyplot as plt\n",
    "from sklearn.linear_model import LogisticRegression\n",
    "from sklearn.metrics import confusion_matrix, plot_confusion_matrix\n",
    "from sklearn.model_selection import train_test_split, GridSearchCV, cross_val_score\n",
    "from sklearn.pipeline import Pipeline\n",
    "from sklearn.naive_bayes import MultinomialNB, GaussianNB\n",
    "from sklearn.feature_extraction.text import CountVectorizer, TfidfVectorizer, TfidfTransformer\n",
    "from sklearn.base import TransformerMixin # this allows to create a custom transformer\n",
    "from sklearn.ensemble import RandomForestClassifier,\\\n",
    "                             ExtraTreesClassifier,\\\n",
    "                             GradientBoostingClassifier,\\\n",
    "                             AdaBoostClassifier,\\\n",
    "                             VotingClassifier\n",
    "from sklearn.svm import SVC\n",
    "from sklearn.tree import DecisionTreeClassifier\n",
    "\n",
    "import warnings \n",
    "warnings.filterwarnings(\"ignore\")"
   ]
  },
  {
   "cell_type": "code",
   "execution_count": 2,
   "metadata": {},
   "outputs": [
    {
     "name": "stdout",
     "output_type": "stream",
     "text": [
      "(5995, 5)\n"
     ]
    },
    {
     "data": {
      "text/html": [
       "<div>\n",
       "<style scoped>\n",
       "    .dataframe tbody tr th:only-of-type {\n",
       "        vertical-align: middle;\n",
       "    }\n",
       "\n",
       "    .dataframe tbody tr th {\n",
       "        vertical-align: top;\n",
       "    }\n",
       "\n",
       "    .dataframe thead th {\n",
       "        text-align: right;\n",
       "    }\n",
       "</style>\n",
       "<table border=\"1\" class=\"dataframe\">\n",
       "  <thead>\n",
       "    <tr style=\"text-align: right;\">\n",
       "      <th></th>\n",
       "      <th>subreddit</th>\n",
       "      <th>text_all</th>\n",
       "      <th>y</th>\n",
       "      <th>texts_cleaned</th>\n",
       "      <th>post_w_cnt</th>\n",
       "    </tr>\n",
       "  </thead>\n",
       "  <tbody>\n",
       "    <tr>\n",
       "      <th>0</th>\n",
       "      <td>relationship_advice</td>\n",
       "      <td>BI 58 Male Caught With Guy I'am a bi 58 year o...</td>\n",
       "      <td>1</td>\n",
       "      <td>bi  male caught with guy i am a year old  have...</td>\n",
       "      <td>139</td>\n",
       "    </tr>\n",
       "    <tr>\n",
       "      <th>1</th>\n",
       "      <td>legaladvice</td>\n",
       "      <td>When a dealer gets arrested do his roommates g...</td>\n",
       "      <td>0</td>\n",
       "      <td>when a dealer get arrested do his roommate get...</td>\n",
       "      <td>36</td>\n",
       "    </tr>\n",
       "    <tr>\n",
       "      <th>2</th>\n",
       "      <td>relationship_advice</td>\n",
       "      <td>My(14M) friend (14F) that I’ve been talking to...</td>\n",
       "      <td>1</td>\n",
       "      <td>my m friend f that i ve been talking to just t...</td>\n",
       "      <td>184</td>\n",
       "    </tr>\n",
       "    <tr>\n",
       "      <th>3</th>\n",
       "      <td>relationship_advice</td>\n",
       "      <td>Did my boyfriend and I make the right assumpti...</td>\n",
       "      <td>1</td>\n",
       "      <td>did my boyfriend and i make the right assumpti...</td>\n",
       "      <td>356</td>\n",
       "    </tr>\n",
       "    <tr>\n",
       "      <th>4</th>\n",
       "      <td>relationship_advice</td>\n",
       "      <td>Tough patch in our relationship of four years ...</td>\n",
       "      <td>1</td>\n",
       "      <td>tough patch in our relationship of four year m...</td>\n",
       "      <td>206</td>\n",
       "    </tr>\n",
       "  </tbody>\n",
       "</table>\n",
       "</div>"
      ],
      "text/plain": [
       "             subreddit                                           text_all  y  \\\n",
       "0  relationship_advice  BI 58 Male Caught With Guy I'am a bi 58 year o...  1   \n",
       "1          legaladvice  When a dealer gets arrested do his roommates g...  0   \n",
       "2  relationship_advice  My(14M) friend (14F) that I’ve been talking to...  1   \n",
       "3  relationship_advice  Did my boyfriend and I make the right assumpti...  1   \n",
       "4  relationship_advice  Tough patch in our relationship of four years ...  1   \n",
       "\n",
       "                                       texts_cleaned  post_w_cnt  \n",
       "0  bi  male caught with guy i am a year old  have...         139  \n",
       "1  when a dealer get arrested do his roommate get...          36  \n",
       "2  my m friend f that i ve been talking to just t...         184  \n",
       "3  did my boyfriend and i make the right assumpti...         356  \n",
       "4  tough patch in our relationship of four year m...         206  "
      ]
     },
     "execution_count": 2,
     "metadata": {},
     "output_type": "execute_result"
    }
   ],
   "source": [
    "# read in csv\n",
    "\n",
    "df = pd.read_csv('/Users/juhee/Desktop/GA/Submissions/Projects/project_3-master/data/reddit_final.csv')\n",
    "\n",
    "print(df.shape)\n",
    "df.head()"
   ]
  },
  {
   "cell_type": "code",
   "execution_count": 3,
   "metadata": {},
   "outputs": [
    {
     "data": {
      "text/plain": [
       "subreddit        0\n",
       "text_all         0\n",
       "y                0\n",
       "texts_cleaned    0\n",
       "post_w_cnt       0\n",
       "dtype: int64"
      ]
     },
     "execution_count": 3,
     "metadata": {},
     "output_type": "execute_result"
    }
   ],
   "source": [
    "# check null values \n",
    "\n",
    "df.isnull().sum()"
   ]
  },
  {
   "cell_type": "markdown",
   "metadata": {},
   "source": [
    "## Modeling"
   ]
  },
  {
   "cell_type": "code",
   "execution_count": 4,
   "metadata": {},
   "outputs": [],
   "source": [
    "# set up X and y and train test split\n",
    "\n",
    "X = df['texts_cleaned']\n",
    "y = df['y']\n",
    "\n",
    "X_train, X_test, y_train, y_test = train_test_split(X, y, test_size = .33, random_state = 42, stratify = y)"
   ]
  },
  {
   "cell_type": "code",
   "execution_count": 5,
   "metadata": {},
   "outputs": [
    {
     "data": {
      "text/plain": [
       "1    0.744821\n",
       "0    0.255179\n",
       "Name: y, dtype: float64"
      ]
     },
     "execution_count": 5,
     "metadata": {},
     "output_type": "execute_result"
    }
   ],
   "source": [
    "# establish baseline accuracy\n",
    "\n",
    "y_test.value_counts(normalize = True)"
   ]
  },
  {
   "cell_type": "markdown",
   "metadata": {},
   "source": [
    "### CountVectorizer()\n",
    "#### Multinomial Naive Bayes and Logistic Regression"
   ]
  },
  {
   "cell_type": "code",
   "execution_count": 6,
   "metadata": {},
   "outputs": [],
   "source": [
    "# set 2 pipelines with: 1. Multinomial Bayes 2. Logistic Regression\n",
    "\n",
    "pipeline_nb = Pipeline([\n",
    "                       ('cvec', CountVectorizer()),\n",
    "                       ('mb', MultinomialNB())\n",
    "                       ])\n",
    "\n",
    "pipeline_log = Pipeline([\n",
    "                        ('cvec', CountVectorizer()),\n",
    "                        ('logreg', LogisticRegression())\n",
    "                        ])"
   ]
  },
  {
   "cell_type": "code",
   "execution_count": 7,
   "metadata": {},
   "outputs": [],
   "source": [
    "# set up a dictionary to store the best parameters\n",
    "\n",
    "model_nb_params = {}\n",
    "count_nb = 0\n",
    "\n",
    "model_log_params = {}\n",
    "count_log = 0"
   ]
  },
  {
   "cell_type": "code",
   "execution_count": 29,
   "metadata": {},
   "outputs": [],
   "source": [
    "# search over the following values of hyperparameters:\n",
    "# maximum number of features fit: \n",
    "# 5500, 6000, 6500, 7000 -> 5000, 5500, 6500: the maximum number of features did not impact the score. will decrease to see if we get higher score\n",
    "# -> 4000, 4500, 5000, 5500, 6000 -> 4000, 5000, 5500, 6000 -> 2000, 3000, 4000, 5000   \n",
    "# minimum number of documents needed to include token\n",
    "# 2, 3 -> 1, 2 -> 1, 2, 3\n",
    "# maximum number of documents needed to include token\n",
    "# 85%, 87.5%, 90%, 92.5% -> 80%, 82.5%, 85%, 90%: : max number of documents keep going down, but the score does not change, indicating 85% is the limit. will increase\n",
    "# -> 85%, 90%, 95%\n",
    "# check (individual tokens) and also check (individual tokens and 2-grams).\n",
    "\n",
    "pipe_params = {\n",
    "    'cvec__max_features': [4000, 5000, 5500, 6000],\n",
    "    'cvec__min_df': [1, 2, 3],\n",
    "    'cvec__max_df': [.85, .90, .95],\n",
    "    'cvec__ngram_range': [(1, 1), (1, 2)],\n",
    "    'cvec__stop_words': ['english', None]\n",
    "}\n",
    "\n",
    "# scores did not change with variation of hyperparameters. \n",
    "# the best parameters - max feature: [5500, 6000], minimum documents: [1, 2], max documents: [0.85], ngram: (1, 1), stop words: [None, english]"
   ]
  },
  {
   "cell_type": "code",
   "execution_count": 30,
   "metadata": {},
   "outputs": [],
   "source": [
    "# instantiate GridSearchCV - NaiveBayes\n",
    "\n",
    "gs_nb = GridSearchCV(pipeline_nb, \n",
    "                     param_grid = pipe_params, \n",
    "                     cv = 3) \n",
    "\n",
    "# instantiate GridSearchCV - LogisticRegression\n",
    "\n",
    "gs_log = GridSearchCV(pipeline_log, \n",
    "                      param_grid = pipe_params, \n",
    "                      cv = 3) "
   ]
  },
  {
   "cell_type": "code",
   "execution_count": 31,
   "metadata": {},
   "outputs": [],
   "source": [
    "# increase counter as we put in different parameters\n",
    "\n",
    "count_nb += 1\n",
    "\n",
    "# fit the training set\n",
    "\n",
    "gs_nb.fit(X_train, y_train)\n",
    "\n",
    "# best score is not captured in parameters -> create a key 'score' to store the info\n",
    "\n",
    "gs_nb.best_params_['score'] = gs_nb.best_score_\n",
    "\n",
    "model_nb_params[f'{gs_nb}_{count_nb}'] = gs_nb.best_params_\n",
    "\n",
    "# dictionary to a dataframe\n",
    "\n",
    "model_nb_df = pd.DataFrame.from_dict(model_nb_params, orient = 'index')"
   ]
  },
  {
   "cell_type": "code",
   "execution_count": 32,
   "metadata": {},
   "outputs": [
    {
     "data": {
      "text/html": [
       "<div>\n",
       "<style scoped>\n",
       "    .dataframe tbody tr th:only-of-type {\n",
       "        vertical-align: middle;\n",
       "    }\n",
       "\n",
       "    .dataframe tbody tr th {\n",
       "        vertical-align: top;\n",
       "    }\n",
       "\n",
       "    .dataframe thead th {\n",
       "        text-align: right;\n",
       "    }\n",
       "</style>\n",
       "<table border=\"1\" class=\"dataframe\">\n",
       "  <thead>\n",
       "    <tr style=\"text-align: right;\">\n",
       "      <th></th>\n",
       "      <th>cvec__max_df</th>\n",
       "      <th>cvec__max_features</th>\n",
       "      <th>cvec__min_df</th>\n",
       "      <th>cvec__ngram_range</th>\n",
       "      <th>cvec__stop_words</th>\n",
       "      <th>score</th>\n",
       "    </tr>\n",
       "  </thead>\n",
       "  <tbody>\n",
       "    <tr>\n",
       "      <th>GridSearchCV(cv=3,\\n             estimator=Pipeline(steps=[('cvec', CountVectorizer()),\\n                                       ('mb', MultinomialNB())]),\\n             param_grid={'cvec__max_df': [0.85, 0.875, 0.9, 0.925],\\n                         'cvec__max_features': [5500, 6000, 6500, 7000],\\n                         'cvec__min_df': [2, 3],\\n                         'cvec__ngram_range': [(1, 1), (1, 2)],\\n                         'cvec__stop_words': ['english', None]})_1</th>\n",
       "      <td>0.85</td>\n",
       "      <td>6500</td>\n",
       "      <td>2</td>\n",
       "      <td>(1, 1)</td>\n",
       "      <td>None</td>\n",
       "      <td>0.937997</td>\n",
       "    </tr>\n",
       "    <tr>\n",
       "      <th>GridSearchCV(cv=3,\\n             estimator=Pipeline(steps=[('cvec', CountVectorizer()),\\n                                       ('mb', MultinomialNB())]),\\n             param_grid={'cvec__max_df': [0.8, 0.825, 0.85, 0.9],\\n                         'cvec__max_features': [5000, 5500, 6500, 6750],\\n                         'cvec__min_df': [1, 2],\\n                         'cvec__ngram_range': [(1, 1), (1, 2)],\\n                         'cvec__stop_words': ['english', None]})_2</th>\n",
       "      <td>0.80</td>\n",
       "      <td>6500</td>\n",
       "      <td>2</td>\n",
       "      <td>(1, 1)</td>\n",
       "      <td>None</td>\n",
       "      <td>0.937997</td>\n",
       "    </tr>\n",
       "    <tr>\n",
       "      <th>GridSearchCV(cv=3,\\n             estimator=Pipeline(steps=[('cvec', CountVectorizer()),\\n                                       ('mb', MultinomialNB())]),\\n             param_grid={'cvec__max_df': [0.85, 0.9, 0.95],\\n                         'cvec__max_features': [4000, 4500, 5000, 5500, 6000],\\n                         'cvec__min_df': [1, 2],\\n                         'cvec__ngram_range': [(1, 1), (1, 2)],\\n                         'cvec__stop_words': ['english', None]})_4</th>\n",
       "      <td>0.85</td>\n",
       "      <td>6000</td>\n",
       "      <td>1</td>\n",
       "      <td>(1, 1)</td>\n",
       "      <td>None</td>\n",
       "      <td>0.937997</td>\n",
       "    </tr>\n",
       "    <tr>\n",
       "      <th>GridSearchCV(cv=3,\\n             estimator=Pipeline(steps=[('cvec', CountVectorizer()),\\n                                       ('mb', MultinomialNB())]),\\n             param_grid={'cvec__max_df': [0.85, 0.9, 0.95],\\n                         'cvec__max_features': [4000, 5000, 5500, 6000],\\n                         'cvec__min_df': [1, 2, 3],\\n                         'cvec__ngram_range': [(1, 1), (1, 2)],\\n                         'cvec__stop_words': ['english', None]})_5</th>\n",
       "      <td>0.85</td>\n",
       "      <td>6000</td>\n",
       "      <td>1</td>\n",
       "      <td>(1, 1)</td>\n",
       "      <td>None</td>\n",
       "      <td>0.937997</td>\n",
       "    </tr>\n",
       "  </tbody>\n",
       "</table>\n",
       "</div>"
      ],
      "text/plain": [
       "                                                    cvec__max_df  \\\n",
       "GridSearchCV(cv=3,\\n             estimator=Pipe...          0.85   \n",
       "GridSearchCV(cv=3,\\n             estimator=Pipe...          0.80   \n",
       "GridSearchCV(cv=3,\\n             estimator=Pipe...          0.85   \n",
       "GridSearchCV(cv=3,\\n             estimator=Pipe...          0.85   \n",
       "\n",
       "                                                    cvec__max_features  \\\n",
       "GridSearchCV(cv=3,\\n             estimator=Pipe...                6500   \n",
       "GridSearchCV(cv=3,\\n             estimator=Pipe...                6500   \n",
       "GridSearchCV(cv=3,\\n             estimator=Pipe...                6000   \n",
       "GridSearchCV(cv=3,\\n             estimator=Pipe...                6000   \n",
       "\n",
       "                                                    cvec__min_df  \\\n",
       "GridSearchCV(cv=3,\\n             estimator=Pipe...             2   \n",
       "GridSearchCV(cv=3,\\n             estimator=Pipe...             2   \n",
       "GridSearchCV(cv=3,\\n             estimator=Pipe...             1   \n",
       "GridSearchCV(cv=3,\\n             estimator=Pipe...             1   \n",
       "\n",
       "                                                   cvec__ngram_range  \\\n",
       "GridSearchCV(cv=3,\\n             estimator=Pipe...            (1, 1)   \n",
       "GridSearchCV(cv=3,\\n             estimator=Pipe...            (1, 1)   \n",
       "GridSearchCV(cv=3,\\n             estimator=Pipe...            (1, 1)   \n",
       "GridSearchCV(cv=3,\\n             estimator=Pipe...            (1, 1)   \n",
       "\n",
       "                                                   cvec__stop_words     score  \n",
       "GridSearchCV(cv=3,\\n             estimator=Pipe...             None  0.937997  \n",
       "GridSearchCV(cv=3,\\n             estimator=Pipe...             None  0.937997  \n",
       "GridSearchCV(cv=3,\\n             estimator=Pipe...             None  0.937997  \n",
       "GridSearchCV(cv=3,\\n             estimator=Pipe...             None  0.937997  "
      ]
     },
     "execution_count": 32,
     "metadata": {},
     "output_type": "execute_result"
    }
   ],
   "source": [
    "model_nb_df"
   ]
  },
  {
   "cell_type": "code",
   "execution_count": 33,
   "metadata": {},
   "outputs": [],
   "source": [
    "# increase counter as we put in different parameters\n",
    "\n",
    "count_log += 1\n",
    "\n",
    "# fit the training set\n",
    "\n",
    "gs_log.fit(X_train, y_train)\n",
    "\n",
    "# best score is not captured in parameters -> create a key 'score' to store the info\n",
    "\n",
    "gs_log.best_params_['score'] = gs_log.best_score_\n",
    "\n",
    "model_log_params[f'{gs_log}_{count_log}'] = gs_log.best_params_\n",
    "\n",
    "# dictionary to a dataframe\n",
    "\n",
    "model_log_df = pd.DataFrame.from_dict(model_log_params, orient = 'index')"
   ]
  },
  {
   "cell_type": "code",
   "execution_count": 34,
   "metadata": {},
   "outputs": [
    {
     "data": {
      "text/html": [
       "<div>\n",
       "<style scoped>\n",
       "    .dataframe tbody tr th:only-of-type {\n",
       "        vertical-align: middle;\n",
       "    }\n",
       "\n",
       "    .dataframe tbody tr th {\n",
       "        vertical-align: top;\n",
       "    }\n",
       "\n",
       "    .dataframe thead th {\n",
       "        text-align: right;\n",
       "    }\n",
       "</style>\n",
       "<table border=\"1\" class=\"dataframe\">\n",
       "  <thead>\n",
       "    <tr style=\"text-align: right;\">\n",
       "      <th></th>\n",
       "      <th>cvec__max_df</th>\n",
       "      <th>cvec__max_features</th>\n",
       "      <th>cvec__min_df</th>\n",
       "      <th>cvec__ngram_range</th>\n",
       "      <th>cvec__stop_words</th>\n",
       "      <th>score</th>\n",
       "    </tr>\n",
       "  </thead>\n",
       "  <tbody>\n",
       "    <tr>\n",
       "      <th>GridSearchCV(cv=3,\\n             estimator=Pipeline(steps=[('cvec', CountVectorizer()),\\n                                       ('logreg', LogisticRegression())]),\\n             param_grid={'cvec__max_df': [0.85, 0.875, 0.9, 0.925],\\n                         'cvec__max_features': [5500, 6000, 6500, 7000],\\n                         'cvec__min_df': [2, 3],\\n                         'cvec__ngram_range': [(1, 1), (1, 2)],\\n                         'cvec__stop_words': ['english', None]})_1</th>\n",
       "      <td>0.85</td>\n",
       "      <td>5500</td>\n",
       "      <td>2</td>\n",
       "      <td>(1, 1)</td>\n",
       "      <td>english</td>\n",
       "      <td>0.917084</td>\n",
       "    </tr>\n",
       "    <tr>\n",
       "      <th>GridSearchCV(cv=3,\\n             estimator=Pipeline(steps=[('cvec', CountVectorizer()),\\n                                       ('logreg', LogisticRegression())]),\\n             param_grid={'cvec__max_df': [0.8, 0.825, 0.85, 0.9],\\n                         'cvec__max_features': [5000, 5500, 6500, 6750],\\n                         'cvec__min_df': [1, 2],\\n                         'cvec__ngram_range': [(1, 1), (1, 2)],\\n                         'cvec__stop_words': ['english', None]})_2</th>\n",
       "      <td>0.80</td>\n",
       "      <td>5500</td>\n",
       "      <td>2</td>\n",
       "      <td>(1, 1)</td>\n",
       "      <td>english</td>\n",
       "      <td>0.917084</td>\n",
       "    </tr>\n",
       "    <tr>\n",
       "      <th>GridSearchCV(cv=3,\\n             estimator=Pipeline(steps=[('cvec', CountVectorizer()),\\n                                       ('logreg', LogisticRegression())]),\\n             param_grid={'cvec__max_df': [0.85, 0.9, 0.95],\\n                         'cvec__max_features': [4000, 4500, 5000, 5500, 6000],\\n                         'cvec__min_df': [1, 2],\\n                         'cvec__ngram_range': [(1, 1), (1, 2)],\\n                         'cvec__stop_words': ['english', None]})_3</th>\n",
       "      <td>0.85</td>\n",
       "      <td>5500</td>\n",
       "      <td>2</td>\n",
       "      <td>(1, 1)</td>\n",
       "      <td>english</td>\n",
       "      <td>0.917084</td>\n",
       "    </tr>\n",
       "    <tr>\n",
       "      <th>GridSearchCV(cv=3,\\n             estimator=Pipeline(steps=[('cvec', CountVectorizer()),\\n                                       ('logreg', LogisticRegression())]),\\n             param_grid={'cvec__max_df': [0.85, 0.9, 0.95],\\n                         'cvec__max_features': [4000, 5000, 5500, 6000],\\n                         'cvec__min_df': [1, 2, 3],\\n                         'cvec__ngram_range': [(1, 1), (1, 2)],\\n                         'cvec__stop_words': ['english', None]})_4</th>\n",
       "      <td>0.85</td>\n",
       "      <td>5500</td>\n",
       "      <td>2</td>\n",
       "      <td>(1, 1)</td>\n",
       "      <td>english</td>\n",
       "      <td>0.917084</td>\n",
       "    </tr>\n",
       "  </tbody>\n",
       "</table>\n",
       "</div>"
      ],
      "text/plain": [
       "                                                    cvec__max_df  \\\n",
       "GridSearchCV(cv=3,\\n             estimator=Pipe...          0.85   \n",
       "GridSearchCV(cv=3,\\n             estimator=Pipe...          0.80   \n",
       "GridSearchCV(cv=3,\\n             estimator=Pipe...          0.85   \n",
       "GridSearchCV(cv=3,\\n             estimator=Pipe...          0.85   \n",
       "\n",
       "                                                    cvec__max_features  \\\n",
       "GridSearchCV(cv=3,\\n             estimator=Pipe...                5500   \n",
       "GridSearchCV(cv=3,\\n             estimator=Pipe...                5500   \n",
       "GridSearchCV(cv=3,\\n             estimator=Pipe...                5500   \n",
       "GridSearchCV(cv=3,\\n             estimator=Pipe...                5500   \n",
       "\n",
       "                                                    cvec__min_df  \\\n",
       "GridSearchCV(cv=3,\\n             estimator=Pipe...             2   \n",
       "GridSearchCV(cv=3,\\n             estimator=Pipe...             2   \n",
       "GridSearchCV(cv=3,\\n             estimator=Pipe...             2   \n",
       "GridSearchCV(cv=3,\\n             estimator=Pipe...             2   \n",
       "\n",
       "                                                   cvec__ngram_range  \\\n",
       "GridSearchCV(cv=3,\\n             estimator=Pipe...            (1, 1)   \n",
       "GridSearchCV(cv=3,\\n             estimator=Pipe...            (1, 1)   \n",
       "GridSearchCV(cv=3,\\n             estimator=Pipe...            (1, 1)   \n",
       "GridSearchCV(cv=3,\\n             estimator=Pipe...            (1, 1)   \n",
       "\n",
       "                                                   cvec__stop_words     score  \n",
       "GridSearchCV(cv=3,\\n             estimator=Pipe...          english  0.917084  \n",
       "GridSearchCV(cv=3,\\n             estimator=Pipe...          english  0.917084  \n",
       "GridSearchCV(cv=3,\\n             estimator=Pipe...          english  0.917084  \n",
       "GridSearchCV(cv=3,\\n             estimator=Pipe...          english  0.917084  "
      ]
     },
     "execution_count": 34,
     "metadata": {},
     "output_type": "execute_result"
    }
   ],
   "source": [
    "model_log_df"
   ]
  },
  {
   "cell_type": "code",
   "execution_count": 35,
   "metadata": {},
   "outputs": [
    {
     "name": "stdout",
     "output_type": "stream",
     "text": [
      "Multinomial Naive Bayes: 0.9509462151394422\n",
      "\n",
      "Logistic Regression: 0.9793326693227091\n"
     ]
    }
   ],
   "source": [
    "# train set score\n",
    "\n",
    "print(f'Multinomial Naive Bayes: {gs_nb.score(X_train, y_train)}')\n",
    "print(f'\\nLogistic Regression: {gs_log.score(X_train, y_train)}')"
   ]
  },
  {
   "cell_type": "code",
   "execution_count": 36,
   "metadata": {},
   "outputs": [
    {
     "name": "stdout",
     "output_type": "stream",
     "text": [
      "Multinomial Naive Bayes: 0.9388580090955028\n",
      "\n",
      "Logistic Regression: 0.9236988377968671\n"
     ]
    }
   ],
   "source": [
    "# test set score\n",
    "\n",
    "print(f'Multinomial Naive Bayes: {gs_nb.score(X_test, y_test)}')\n",
    "print(f'\\nLogistic Regression: {gs_log.score(X_test, y_test)}')"
   ]
  },
  {
   "cell_type": "code",
   "execution_count": 37,
   "metadata": {},
   "outputs": [
    {
     "name": "stdout",
     "output_type": "stream",
     "text": [
      "Multinomial Naive Bayes: \n",
      "{'cvec__max_df': 0.85, 'cvec__max_features': 6000, 'cvec__min_df': 1, 'cvec__ngram_range': (1, 1), 'cvec__stop_words': None, 'score': 0.9379972560563793}\n",
      "\n",
      "Logistic Regression: \n",
      "{'cvec__max_df': 0.85, 'cvec__max_features': 5500, 'cvec__min_df': 2, 'cvec__ngram_range': (1, 1), 'cvec__stop_words': 'english', 'score': 0.9170837096301853}\n"
     ]
    }
   ],
   "source": [
    "# find the best parameters for both models\n",
    "\n",
    "print(f'Multinomial Naive Bayes: \\n{gs_nb.best_params_}')\n",
    "print(f'\\nLogistic Regression: \\n{gs_log.best_params_}')"
   ]
  },
  {
   "cell_type": "code",
   "execution_count": 38,
   "metadata": {},
   "outputs": [
    {
     "name": "stdout",
     "output_type": "stream",
     "text": [
      "Multinomial Naive Bayes: \n",
      "Pipeline(steps=[('cvec', CountVectorizer(max_df=0.85, max_features=6000)),\n",
      "                ('mb', MultinomialNB())])\n",
      "\n",
      "Logistic Regression: \n",
      "Pipeline(steps=[('cvec',\n",
      "                 CountVectorizer(max_df=0.85, max_features=5500, min_df=2,\n",
      "                                 stop_words='english')),\n",
      "                ('logreg', LogisticRegression())])\n"
     ]
    }
   ],
   "source": [
    "# find the best estimators for both models\n",
    "\n",
    "print(f'Multinomial Naive Bayes: \\n{gs_nb.best_estimator_}')\n",
    "print(f'\\nLogistic Regression: \\n{gs_log.best_estimator_}')"
   ]
  },
  {
   "cell_type": "markdown",
   "metadata": {},
   "source": [
    "<blockquote>Although the best accuracy score of Logistic Regression on train dataset was 98%, it failed to perform on test dataset - it only scored 92% - signaling its overfit on train dataset. On the other hand, Multinomial Niave Bayes performed consistently without much variation from best, train to test. Our best model here is <b>Multinomial Naive Bayes</b> model with estimators of <b>max document 0.85, max features 6,000</b>, and <b>minimum document of 1</b> and with a parameter of <b>ngram range 1</b> and <b>no stop words</b>.</blockquote>"
   ]
  },
  {
   "cell_type": "code",
   "execution_count": 39,
   "metadata": {},
   "outputs": [],
   "source": [
    "# predictions\n",
    "\n",
    "y_preds = gs_nb.predict(X_test)\n",
    "\n",
    "# confusion matrix values\n",
    "\n",
    "tn, fp, fn, tp = confusion_matrix(y_test, y_preds).ravel()"
   ]
  },
  {
   "cell_type": "code",
   "execution_count": 40,
   "metadata": {},
   "outputs": [
    {
     "data": {
      "image/png": "[encoded data removed]",
      "text/plain": [
       "<Figure size 432x288 with 2 Axes>"
      ]
     },
     "metadata": {
      "needs_background": "light"
     },
     "output_type": "display_data"
    }
   ],
   "source": [
    "# view confusion matrix\n",
    "\n",
    "plot_confusion_matrix(gs_nb, X_test, y_test, cmap = 'Blues', normalize = 'true');"
   ]
  },
  {
   "cell_type": "code",
   "execution_count": null,
   "metadata": {},
   "outputs": [],
   "source": []
  },
  {
   "cell_type": "markdown",
   "metadata": {},
   "source": [
    "#### Random Forest and Extra Trees"
   ]
  },
  {
   "cell_type": "code",
   "execution_count": 97,
   "metadata": {},
   "outputs": [],
   "source": [
    "# set 2 pipelines with: 3. Random Forest 4. Extra Trees\n",
    "\n",
    "# these 2 models are computationally exhausting (taking too long to run), so plugged in parameters instead using parameters\n",
    "# 1. n_estimators = 125 -> 250 -> 500 -> 1000\n",
    "# 2. max_depth = 4 -> 8 -> 16 -> 32\n",
    "# 3. min_samples_split = 4 -> 8 -> 16 -> 32\n",
    "# 4. random_state = 42\n",
    "\n",
    "pipeline_rf = Pipeline([\n",
    "                       ('cvec', CountVectorizer()),\n",
    "                       ('rf', RandomForestClassifier(n_estimators = 1000, max_depth = 32, min_samples_split = 32, random_state = 42))\n",
    "                       ])\n",
    "\n",
    "pipeline_et = Pipeline([\n",
    "                        ('cvec', CountVectorizer()),\n",
    "                        ('et', ExtraTreesClassifier(n_estimators = 1000, max_depth = 32, min_samples_split = 32, random_state = 42))\n",
    "                        ])\n",
    "\n",
    "# random forest score: \n",
    "# 0.75 -> 0.79 -> 0.85 -> 0.88\n",
    "# extra trees score:\n",
    "# 0.74 -> 0.77 -> 0.84 -> 0.88"
   ]
  },
  {
   "cell_type": "code",
   "execution_count": 99,
   "metadata": {},
   "outputs": [],
   "source": [
    "# inserted the best parameters from Multinomial Bayes and Logistic Regression\n",
    "\n",
    "pipe_params = {\n",
    "    'cvec__max_features': [5500, 6000], # -> 5500\n",
    "    'cvec__min_df': [1, 2], # -> 1\n",
    "    'cvec__max_df': [.85, .90, .95], # -> 0.85\n",
    "    'cvec__ngram_range': [(1, 1)],\n",
    "    'cvec__stop_words': ['english', None] # -> None\n",
    "               }"
   ]
  },
  {
   "cell_type": "code",
   "execution_count": 100,
   "metadata": {},
   "outputs": [],
   "source": [
    "# instantiate GridSearchCV - RandomForest\n",
    "\n",
    "gs_rf = GridSearchCV(pipeline_rf, \n",
    "                     param_grid = pipe_params, \n",
    "                     cv = 3) \n",
    "\n",
    "# instantiate GridSearchCV - ExtraTrees\n",
    "\n",
    "gs_et = GridSearchCV(pipeline_et, \n",
    "                      param_grid = pipe_params, \n",
    "                      cv = 3) "
   ]
  },
  {
   "cell_type": "code",
   "execution_count": 105,
   "metadata": {},
   "outputs": [
    {
     "name": "stdout",
     "output_type": "stream",
     "text": [
      "0.880729433539743\n"
     ]
    },
    {
     "data": {
      "text/plain": [
       "{'cvec__max_df': 0.85,\n",
       " 'cvec__max_features': 5500,\n",
       " 'cvec__min_df': 1,\n",
       " 'cvec__ngram_range': (1, 1),\n",
       " 'cvec__stop_words': 'english'}"
      ]
     },
     "execution_count": 105,
     "metadata": {},
     "output_type": "execute_result"
    }
   ],
   "source": [
    "# fit the training set\n",
    "\n",
    "gs_rf.fit(X_train, y_train)\n",
    "\n",
    "print(gs_rf.best_score_)\n",
    "gs_rf.best_params_"
   ]
  },
  {
   "cell_type": "code",
   "execution_count": 106,
   "metadata": {},
   "outputs": [
    {
     "name": "stdout",
     "output_type": "stream",
     "text": [
      "0.8814764455845913\n"
     ]
    },
    {
     "data": {
      "text/plain": [
       "{'cvec__max_df': 0.85,\n",
       " 'cvec__max_features': 5500,\n",
       " 'cvec__min_df': 2,\n",
       " 'cvec__ngram_range': (1, 1),\n",
       " 'cvec__stop_words': 'english'}"
      ]
     },
     "execution_count": 106,
     "metadata": {},
     "output_type": "execute_result"
    }
   ],
   "source": [
    "# fit the training set\n",
    "\n",
    "gs_et.fit(X_train, y_train)\n",
    "\n",
    "print(gs_et.best_score_)\n",
    "gs_et.best_params_"
   ]
  },
  {
   "cell_type": "markdown",
   "metadata": {},
   "source": [
    "<blockquote>These 2 models - Random Forest and Extra Trees - are computationally exhausting (expnesive) to run, since they were taking very long time. As I increased the numbers in their parameters, I was able to get better results, however, it also meant that much longer time. Both of these two did not render better results than Multinomial Naive Bayes or Logistic Regression.\n",
    "    </blockquote>"
   ]
  },
  {
   "cell_type": "markdown",
   "metadata": {},
   "source": [
    "#### AdaBoost, GradientBoost, Decision Trees"
   ]
  },
  {
   "cell_type": "code",
   "execution_count": 190,
   "metadata": {},
   "outputs": [],
   "source": [
    "# set up empty lists to store the scores and parameters\n",
    "\n",
    "score = []\n",
    "par = []"
   ]
  },
  {
   "cell_type": "code",
   "execution_count": 193,
   "metadata": {},
   "outputs": [],
   "source": [
    "# initiate voting classifier\n",
    "\n",
    "vote = VotingClassifier([\n",
    "    ('ada', AdaBoostClassifier()),\n",
    "    ('gb', GradientBoostingClassifier()),\n",
    "    ('tree', DecisionTreeClassifier())\n",
    "])\n",
    "\n",
    "# create pipeline -> countvectorize, then vote\n",
    "\n",
    "pipeline_vt = Pipeline([\n",
    "                       ('cvec', CountVectorizer()),\n",
    "                       ('vote', vote)\n",
    "                       ])\n",
    "\n",
    "# set parameters\n",
    "# start with the best parameters from above models for countvectorizer\n",
    "\n",
    "params = {\n",
    "    'cvec__max_features': [5000, 5500], \n",
    "    'cvec__min_df': [1], \n",
    "    'cvec__max_df': [0.80, 0.85], \n",
    "    'cvec__ngram_range': [(1, 1), (1, 2)],\n",
    "    'cvec__stop_words': [None], \n",
    "    'vote__ada__n_estimators' : [400, 500],\n",
    "    'vote__gb__n_estimators' : [300, 400],\n",
    "    'vote__tree__max_depth' : [7, 8, 9]\n",
    "}\n",
    "\n",
    "# try grid search for the best parameters\n",
    "\n",
    "gs_vote = GridSearchCV(pipeline_vt,\n",
    "                  param_grid = params,\n",
    "                  cv = 3)"
   ]
  },
  {
   "cell_type": "code",
   "execution_count": 195,
   "metadata": {},
   "outputs": [
    {
     "data": {
      "text/plain": [
       "GridSearchCV(cv=3,\n",
       "             estimator=Pipeline(steps=[('cvec', CountVectorizer()),\n",
       "                                       ('vote',\n",
       "                                        VotingClassifier(estimators=[('ada',\n",
       "                                                                      AdaBoostClassifier()),\n",
       "                                                                     ('gb',\n",
       "                                                                      GradientBoostingClassifier()),\n",
       "                                                                     ('tree',\n",
       "                                                                      DecisionTreeClassifier())]))]),\n",
       "             param_grid={'cvec__max_df': [0.8, 0.85],\n",
       "                         'cvec__max_features': [5000, 5500],\n",
       "                         'cvec__min_df': [1],\n",
       "                         'cvec__ngram_range': [(1, 1), (1, 2)],\n",
       "                         'cvec__stop_words': [None],\n",
       "                         'vote__ada__n_estimators': [400, 500],\n",
       "                         'vote__gb__n_estimators': [300, 400],\n",
       "                         'vote__tree__max_depth': [7, 8, 9]})"
      ]
     },
     "execution_count": 195,
     "metadata": {},
     "output_type": "execute_result"
    }
   ],
   "source": [
    "# fit the training dataset\n",
    "\n",
    "gs_vote.fit(X_train, y_train)"
   ]
  },
  {
   "cell_type": "code",
   "execution_count": 196,
   "metadata": {},
   "outputs": [],
   "source": [
    "# append score and parameter values\n",
    "\n",
    "score.append(gs_vote.best_score_)\n",
    "par.append(gs_vote.best_params_)"
   ]
  },
  {
   "cell_type": "code",
   "execution_count": 197,
   "metadata": {},
   "outputs": [
    {
     "name": "stdout",
     "output_type": "stream",
     "text": [
      "0.9096135891817028\n",
      "{'cvec__max_df': 0.8, 'cvec__max_features': 5500, 'cvec__min_df': 1, 'cvec__ngram_range': (1, 1), 'cvec__stop_words': None, 'vote__ada__n_estimators': 400, 'vote__gb__n_estimators': 400, 'vote__tree__max_depth': 9}\n"
     ]
    }
   ],
   "source": [
    "print(gs_vote.best_score_)\n",
    "print(gs_vote.best_params_)"
   ]
  },
  {
   "cell_type": "markdown",
   "metadata": {},
   "source": [
    "<blockquote>Voting classifier takes the longest time to run. Though this model performs better than RandomForest or ExtraTrees, this model is neither the most efficient to run nor the best performing model.</blockquote>"
   ]
  },
  {
   "cell_type": "markdown",
   "metadata": {},
   "source": [
    "#### Support Vector Machines"
   ]
  },
  {
   "cell_type": "code",
   "execution_count": 246,
   "metadata": {},
   "outputs": [],
   "source": [
    "# instantiate SVM\n",
    "\n",
    "svc = SVC()\n",
    "\n",
    "# create a pipeline: countvectorize then svc\n",
    "\n",
    "pipeline_svc = Pipeline([\n",
    "    ('cvec', CountVectorizer()),\n",
    "    ('svc', SVC())\n",
    "])\n",
    "\n",
    "# define parameters: start with the best parameters from multinomial naive bayes and logistic regression\n",
    "\n",
    "params = {\n",
    "    'cvec__max_features': [6000], \n",
    "    'cvec__min_df': [2], \n",
    "    'cvec__max_df': [0.80], \n",
    "    'cvec__ngram_range': [(1, 1)],\n",
    "    'cvec__stop_words': [None], \n",
    "    'svc__kernel': ['linear', 'rbf', 'polynomial', 'sigmoid'],\n",
    "    'svc__C': [3.0],\n",
    "    'svc__degree': [3]\n",
    "}\n",
    "\n",
    "\n",
    "# generate a gridsearch model using pipeline and parameters\n",
    "\n",
    "gs_svc = GridSearchCV(pipeline_svc,\n",
    "                      params,\n",
    "                      cv = 3,\n",
    "                      verbose = 1\n",
    "                      ) # tried to run several jobs in parallel, but got an error saying that it will not run because of processing issue"
   ]
  },
  {
   "cell_type": "code",
   "execution_count": 247,
   "metadata": {},
   "outputs": [
    {
     "name": "stdout",
     "output_type": "stream",
     "text": [
      "Fitting 3 folds for each of 4 candidates, totalling 12 fits\n"
     ]
    },
    {
     "name": "stderr",
     "output_type": "stream",
     "text": [
      "[Parallel(n_jobs=1)]: Using backend SequentialBackend with 1 concurrent workers.\n",
      "[Parallel(n_jobs=1)]: Done  12 out of  12 | elapsed:   22.5s finished\n"
     ]
    },
    {
     "data": {
      "text/plain": [
       "GridSearchCV(cv=3,\n",
       "             estimator=Pipeline(steps=[('cvec', CountVectorizer()),\n",
       "                                       ('svc', SVC())]),\n",
       "             param_grid={'cvec__max_df': [0.8], 'cvec__max_features': [6000],\n",
       "                         'cvec__min_df': [2], 'cvec__ngram_range': [(1, 1)],\n",
       "                         'cvec__stop_words': [None], 'svc__C': [3.0],\n",
       "                         'svc__degree': [3],\n",
       "                         'svc__kernel': ['linear', 'rbf', 'polynomial',\n",
       "                                         'sigmoid']},\n",
       "             verbose=1)"
      ]
     },
     "execution_count": 247,
     "metadata": {},
     "output_type": "execute_result"
    }
   ],
   "source": [
    "# fit the gridsearch model to training dataset\n",
    "\n",
    "gs_svc.fit(X_train, y_train)"
   ]
  },
  {
   "cell_type": "code",
   "execution_count": 248,
   "metadata": {},
   "outputs": [
    {
     "data": {
      "text/plain": [
       "0.9046308420900262"
      ]
     },
     "execution_count": 248,
     "metadata": {},
     "output_type": "execute_result"
    }
   ],
   "source": [
    "gs_svc.best_score_\n",
    "\n",
    "# 1. 0.9046308420900262\n",
    "# 2. 0.9051294703042712\n",
    "# 3. 0.9046308420900262 --> rbf"
   ]
  },
  {
   "cell_type": "code",
   "execution_count": 249,
   "metadata": {},
   "outputs": [
    {
     "data": {
      "text/plain": [
       "{'cvec__max_df': 0.8,\n",
       " 'cvec__max_features': 6000,\n",
       " 'cvec__min_df': 2,\n",
       " 'cvec__ngram_range': (1, 1),\n",
       " 'cvec__stop_words': None,\n",
       " 'svc__C': 3.0,\n",
       " 'svc__degree': 3,\n",
       " 'svc__kernel': 'rbf'}"
      ]
     },
     "execution_count": 249,
     "metadata": {},
     "output_type": "execute_result"
    }
   ],
   "source": [
    "gs_svc.best_params_\n",
    "\n",
    "# 1. \n",
    "# {'cvec__max_df': 0.8,\n",
    "# 'cvec__max_features': 6000,\n",
    "# 'cvec__min_df': 2,\n",
    "# 'cvec__ngram_range': (1, 1),\n",
    "# 'cvec__stop_words': None,\n",
    "# 'svc__C': 3.0,\n",
    "# 'svc__degree': 3,\n",
    "# 'svc__kernel': 'rbf'}\n",
    "\n",
    "# will change the parameters to:\n",
    "# cvec__max_df: [0.75, 0.8], max_features: [6000, 6500], min_df: [1, 2],\n",
    "# svc__C: np.linspace(3, 4, num = 3), degree: [2, 3]\n",
    "\n",
    "# 2.\n",
    "# {'cvec__max_df': 0.8,\n",
    "# 'cvec__max_features': 6000,\n",
    "# 'cvec__min_df': 2,\n",
    "# 'cvec__ngram_range': (1, 1),\n",
    "# 'cvec__stop_words': None,\n",
    "# 'svc__C': 3.0,\n",
    "# 'svc__degree': 3,\n",
    "# 'svc__kernel': 'rbf'}\n",
    "\n",
    "# no change in best parameters -> limit the features and change the kernel\n",
    "\n",
    "# 3.\n",
    "# same parameters with exception of kernel -> tried all kernels"
   ]
  },
  {
   "cell_type": "code",
   "execution_count": 250,
   "metadata": {},
   "outputs": [
    {
     "data": {
      "text/plain": [
       "0.9671314741035857"
      ]
     },
     "execution_count": 250,
     "metadata": {},
     "output_type": "execute_result"
    }
   ],
   "source": [
    "gs_svc.score(X_train, y_train)"
   ]
  },
  {
   "cell_type": "code",
   "execution_count": 251,
   "metadata": {},
   "outputs": [
    {
     "data": {
      "text/plain": [
       "0.9196563921172309"
      ]
     },
     "execution_count": 251,
     "metadata": {},
     "output_type": "execute_result"
    }
   ],
   "source": [
    "gs_svc.score(X_test, y_test)"
   ]
  },
  {
   "cell_type": "markdown",
   "metadata": {},
   "source": [
    "<blockquote>Unlike my assumption that it might perform better than Multinomial Naive Bayes, its  best score is 90%. It scored better on the train dataset of 97%, however, the test dataset only scored 92% showing the model is overfit.</blockquote>"
   ]
  },
  {
   "cell_type": "code",
   "execution_count": null,
   "metadata": {},
   "outputs": [],
   "source": []
  },
  {
   "cell_type": "code",
   "execution_count": null,
   "metadata": {},
   "outputs": [],
   "source": []
  },
  {
   "cell_type": "markdown",
   "metadata": {},
   "source": [
    "### TfidfVectorizer()\n",
    "#### Multinomial Bayes and Logistic Regression"
   ]
  },
  {
   "cell_type": "code",
   "execution_count": 107,
   "metadata": {},
   "outputs": [],
   "source": [
    "# set up 2 pipelines with: 1. Multinomial Naive Bayes 2. Logistic Regression\n",
    "\n",
    "pipe_nb_t = Pipeline([\n",
    "                      ('tvec', TfidfVectorizer()),\n",
    "                      ('nb', MultinomialNB())\n",
    "                     ])\n",
    "\n",
    "pipe_log_t = Pipeline([\n",
    "                       ('tvec', TfidfVectorizer()),\n",
    "                       ('log', LogisticRegression())\n",
    "                      ])"
   ]
  },
  {
   "cell_type": "code",
   "execution_count": 108,
   "metadata": {},
   "outputs": [],
   "source": [
    "# set up a dictionary to store the best parameters\n",
    "\n",
    "t_model_nb_params = {}\n",
    "t_count_nb = 0\n",
    "\n",
    "t_model_log_params = {}\n",
    "t_count_log = 0"
   ]
  },
  {
   "cell_type": "code",
   "execution_count": 124,
   "metadata": {},
   "outputs": [],
   "source": [
    "# search over the following values of hyperparameters:\n",
    "# maximum number of features fit: \n",
    "# 500, 1500, 2500, 3500 -> 1000, 1500, 2500, 3000 -> 1250, 1500, 2500, 2750\n",
    "# max_df:\n",
    "# 0.70, 0.75, 0.80 -> 0.6, 0.65, 0.70 -> 0.5, 0.6, 0.7\n",
    "# min_df:\n",
    "# 0.003, 0.004 -> 0.001, 0.002, 0.004\n",
    "# no stop words and english stop words\n",
    "# check (individual tokens) and also check (individual tokens and 2-grams) -> individual\n",
    "\n",
    "pipe_tvec_params = {\n",
    "    'tvec__max_features': [1250, 1500, 2500, 2750],\n",
    "    'tvec__stop_words': [None, 'english'],\n",
    "    'tvec__ngram_range': [(1, 1)],\n",
    "    'tvec__min_df': [0.001, 0.002, 0.004],\n",
    "    'tvec__max_df': [0.5, 0.6, 0.7]\n",
    "}\n",
    "\n",
    "# not much difference for the models with different parameters. \n",
    "# best parameters: max_df 0.7, max features [1500, 2500], min_df [0.003, 0.004], stop words [none, english], ngram (1, 1)"
   ]
  },
  {
   "cell_type": "code",
   "execution_count": 125,
   "metadata": {},
   "outputs": [],
   "source": [
    "# instantiate GridSearchCV\n",
    "\n",
    "gs_tvec_nb = GridSearchCV(pipe_nb_t,\n",
    "                          param_grid = pipe_tvec_params,\n",
    "                          cv = 5)\n",
    "\n",
    "gs_tvec_log = GridSearchCV(pipe_log_t,\n",
    "                           param_grid = pipe_tvec_params,\n",
    "                           cv = 5)"
   ]
  },
  {
   "cell_type": "code",
   "execution_count": 126,
   "metadata": {},
   "outputs": [],
   "source": [
    "# increase counter as we put in different parameters\n",
    "\n",
    "t_count_nb += 1\n",
    "\n",
    "# fit the training set\n",
    "\n",
    "gs_tvec_nb.fit(X_train, y_train)\n",
    "\n",
    "# best score is not captured in parameters -> create a key 'score' to store the info\n",
    "\n",
    "gs_tvec_nb.best_params_['score'] = gs_tvec_nb.best_score_\n",
    "\n",
    "t_model_nb_params[f'{gs_tvec_nb}_{t_count_nb}'] = gs_tvec_nb.best_params_\n",
    "\n",
    "# dictionary to a dataframe\n",
    "\n",
    "t_model_nb_df = pd.DataFrame.from_dict(t_model_nb_params, orient = 'index')"
   ]
  },
  {
   "cell_type": "code",
   "execution_count": 127,
   "metadata": {},
   "outputs": [
    {
     "data": {
      "text/html": [
       "<div>\n",
       "<style scoped>\n",
       "    .dataframe tbody tr th:only-of-type {\n",
       "        vertical-align: middle;\n",
       "    }\n",
       "\n",
       "    .dataframe tbody tr th {\n",
       "        vertical-align: top;\n",
       "    }\n",
       "\n",
       "    .dataframe thead th {\n",
       "        text-align: right;\n",
       "    }\n",
       "</style>\n",
       "<table border=\"1\" class=\"dataframe\">\n",
       "  <thead>\n",
       "    <tr style=\"text-align: right;\">\n",
       "      <th></th>\n",
       "      <th>tvec__max_df</th>\n",
       "      <th>tvec__max_features</th>\n",
       "      <th>tvec__min_df</th>\n",
       "      <th>tvec__ngram_range</th>\n",
       "      <th>tvec__stop_words</th>\n",
       "      <th>score</th>\n",
       "    </tr>\n",
       "  </thead>\n",
       "  <tbody>\n",
       "    <tr>\n",
       "      <th>GridSearchCV(cv=5,\\n             estimator=Pipeline(steps=[('tvec', TfidfVectorizer()),\\n                                       ('nb', MultinomialNB())]),\\n             param_grid={'tvec__max_df': [0.7, 0.75, 0.8],\\n                         'tvec__max_features': [500, 1500, 2500, 3500],\\n                         'tvec__min_df': [0.003, 0.004],\\n                         'tvec__ngram_range': [(1, 1), (1, 2)],\\n                         'tvec__stop_words': [None, 'english']})_1</th>\n",
       "      <td>0.7</td>\n",
       "      <td>1500</td>\n",
       "      <td>0.003</td>\n",
       "      <td>(1, 1)</td>\n",
       "      <td>english</td>\n",
       "      <td>0.916834</td>\n",
       "    </tr>\n",
       "    <tr>\n",
       "      <th>GridSearchCV(cv=5,\\n             estimator=Pipeline(steps=[('tvec', TfidfVectorizer()),\\n                                       ('nb', MultinomialNB())]),\\n             param_grid={'tvec__max_df': [0.6, 0.65, 0.7],\\n                         'tvec__max_features': [1000, 1500, 2500, 3000],\\n                         'tvec__min_df': [0.002, 0.003, 0.004, 0.005],\\n                         'tvec__ngram_range': [(1, 1), (1, 2)],\\n                         'tvec__stop_words': [None, 'english']})_2</th>\n",
       "      <td>0.6</td>\n",
       "      <td>1500</td>\n",
       "      <td>0.002</td>\n",
       "      <td>(1, 1)</td>\n",
       "      <td>english</td>\n",
       "      <td>0.917581</td>\n",
       "    </tr>\n",
       "    <tr>\n",
       "      <th>GridSearchCV(cv=5,\\n             estimator=Pipeline(steps=[('tvec', TfidfVectorizer()),\\n                                       ('nb', MultinomialNB())]),\\n             param_grid={'tvec__max_df': [0.5, 0.6, 0.7],\\n                         'tvec__max_features': [1250, 1500, 2500, 2750],\\n                         'tvec__min_df': [0.001, 0.002, 0.004],\\n                         'tvec__ngram_range': [(1, 1)],\\n                         'tvec__stop_words': [None, 'english']})_4</th>\n",
       "      <td>0.5</td>\n",
       "      <td>1500</td>\n",
       "      <td>0.002</td>\n",
       "      <td>(1, 1)</td>\n",
       "      <td>english</td>\n",
       "      <td>0.917581</td>\n",
       "    </tr>\n",
       "  </tbody>\n",
       "</table>\n",
       "</div>"
      ],
      "text/plain": [
       "                                                    tvec__max_df  \\\n",
       "GridSearchCV(cv=5,\\n             estimator=Pipe...           0.7   \n",
       "GridSearchCV(cv=5,\\n             estimator=Pipe...           0.6   \n",
       "GridSearchCV(cv=5,\\n             estimator=Pipe...           0.5   \n",
       "\n",
       "                                                    tvec__max_features  \\\n",
       "GridSearchCV(cv=5,\\n             estimator=Pipe...                1500   \n",
       "GridSearchCV(cv=5,\\n             estimator=Pipe...                1500   \n",
       "GridSearchCV(cv=5,\\n             estimator=Pipe...                1500   \n",
       "\n",
       "                                                    tvec__min_df  \\\n",
       "GridSearchCV(cv=5,\\n             estimator=Pipe...         0.003   \n",
       "GridSearchCV(cv=5,\\n             estimator=Pipe...         0.002   \n",
       "GridSearchCV(cv=5,\\n             estimator=Pipe...         0.002   \n",
       "\n",
       "                                                   tvec__ngram_range  \\\n",
       "GridSearchCV(cv=5,\\n             estimator=Pipe...            (1, 1)   \n",
       "GridSearchCV(cv=5,\\n             estimator=Pipe...            (1, 1)   \n",
       "GridSearchCV(cv=5,\\n             estimator=Pipe...            (1, 1)   \n",
       "\n",
       "                                                   tvec__stop_words     score  \n",
       "GridSearchCV(cv=5,\\n             estimator=Pipe...          english  0.916834  \n",
       "GridSearchCV(cv=5,\\n             estimator=Pipe...          english  0.917581  \n",
       "GridSearchCV(cv=5,\\n             estimator=Pipe...          english  0.917581  "
      ]
     },
     "execution_count": 127,
     "metadata": {},
     "output_type": "execute_result"
    }
   ],
   "source": [
    "t_model_nb_df"
   ]
  },
  {
   "cell_type": "code",
   "execution_count": 129,
   "metadata": {},
   "outputs": [],
   "source": [
    "# increase counter as we put in different parameters\n",
    "\n",
    "t_count_log += 1\n",
    "\n",
    "# fit the training set\n",
    "\n",
    "gs_tvec_log.fit(X_train, y_train)\n",
    "\n",
    "# best score is not captured in parameters -> create a key 'score' to store the info\n",
    "\n",
    "gs_tvec_log.best_params_['score'] = gs_tvec_log.best_score_\n",
    "\n",
    "t_model_log_params[f'{gs_tvec_log}_{t_count_log}'] = gs_tvec_log.best_params_\n",
    "\n",
    "# dictionary to a dataframe\n",
    "\n",
    "t_model_log_df = pd.DataFrame.from_dict(t_model_log_params, orient = 'index')"
   ]
  },
  {
   "cell_type": "code",
   "execution_count": 130,
   "metadata": {},
   "outputs": [
    {
     "data": {
      "text/html": [
       "<div>\n",
       "<style scoped>\n",
       "    .dataframe tbody tr th:only-of-type {\n",
       "        vertical-align: middle;\n",
       "    }\n",
       "\n",
       "    .dataframe tbody tr th {\n",
       "        vertical-align: top;\n",
       "    }\n",
       "\n",
       "    .dataframe thead th {\n",
       "        text-align: right;\n",
       "    }\n",
       "</style>\n",
       "<table border=\"1\" class=\"dataframe\">\n",
       "  <thead>\n",
       "    <tr style=\"text-align: right;\">\n",
       "      <th></th>\n",
       "      <th>tvec__max_df</th>\n",
       "      <th>tvec__max_features</th>\n",
       "      <th>tvec__min_df</th>\n",
       "      <th>tvec__ngram_range</th>\n",
       "      <th>tvec__stop_words</th>\n",
       "      <th>score</th>\n",
       "    </tr>\n",
       "  </thead>\n",
       "  <tbody>\n",
       "    <tr>\n",
       "      <th>GridSearchCV(cv=5,\\n             estimator=Pipeline(steps=[('tvec', TfidfVectorizer()),\\n                                       ('log', LogisticRegression())]),\\n             param_grid={'tvec__max_df': [0.7, 0.75, 0.8],\\n                         'tvec__max_features': [500, 1500, 2500, 3500],\\n                         'tvec__min_df': [0.003, 0.004],\\n                         'tvec__ngram_range': [(1, 1), (1, 2)],\\n                         'tvec__stop_words': [None, 'english']})_1</th>\n",
       "      <td>0.7</td>\n",
       "      <td>2500</td>\n",
       "      <td>0.004</td>\n",
       "      <td>(1, 1)</td>\n",
       "      <td>None</td>\n",
       "      <td>0.916336</td>\n",
       "    </tr>\n",
       "    <tr>\n",
       "      <th>GridSearchCV(cv=5,\\n             estimator=Pipeline(steps=[('tvec', TfidfVectorizer()),\\n                                       ('log', LogisticRegression())]),\\n             param_grid={'tvec__max_df': [0.6, 0.65, 0.7],\\n                         'tvec__max_features': [1000, 1500, 2500, 3000],\\n                         'tvec__min_df': [0.002, 0.003, 0.004, 0.005],\\n                         'tvec__ngram_range': [(1, 1), (1, 2)],\\n                         'tvec__stop_words': [None, 'english']})_2</th>\n",
       "      <td>0.7</td>\n",
       "      <td>2500</td>\n",
       "      <td>0.004</td>\n",
       "      <td>(1, 1)</td>\n",
       "      <td>None</td>\n",
       "      <td>0.916336</td>\n",
       "    </tr>\n",
       "    <tr>\n",
       "      <th>GridSearchCV(cv=5,\\n             estimator=Pipeline(steps=[('tvec', TfidfVectorizer()),\\n                                       ('log', LogisticRegression())]),\\n             param_grid={'tvec__max_df': [0.5, 0.6, 0.7],\\n                         'tvec__max_features': [1250, 1500, 2500, 2750],\\n                         'tvec__min_df': [0.001, 0.002, 0.004],\\n                         'tvec__ngram_range': [(1, 1)],\\n                         'tvec__stop_words': [None, 'english']})_3</th>\n",
       "      <td>0.7</td>\n",
       "      <td>2500</td>\n",
       "      <td>0.004</td>\n",
       "      <td>(1, 1)</td>\n",
       "      <td>None</td>\n",
       "      <td>0.916336</td>\n",
       "    </tr>\n",
       "  </tbody>\n",
       "</table>\n",
       "</div>"
      ],
      "text/plain": [
       "                                                    tvec__max_df  \\\n",
       "GridSearchCV(cv=5,\\n             estimator=Pipe...           0.7   \n",
       "GridSearchCV(cv=5,\\n             estimator=Pipe...           0.7   \n",
       "GridSearchCV(cv=5,\\n             estimator=Pipe...           0.7   \n",
       "\n",
       "                                                    tvec__max_features  \\\n",
       "GridSearchCV(cv=5,\\n             estimator=Pipe...                2500   \n",
       "GridSearchCV(cv=5,\\n             estimator=Pipe...                2500   \n",
       "GridSearchCV(cv=5,\\n             estimator=Pipe...                2500   \n",
       "\n",
       "                                                    tvec__min_df  \\\n",
       "GridSearchCV(cv=5,\\n             estimator=Pipe...         0.004   \n",
       "GridSearchCV(cv=5,\\n             estimator=Pipe...         0.004   \n",
       "GridSearchCV(cv=5,\\n             estimator=Pipe...         0.004   \n",
       "\n",
       "                                                   tvec__ngram_range  \\\n",
       "GridSearchCV(cv=5,\\n             estimator=Pipe...            (1, 1)   \n",
       "GridSearchCV(cv=5,\\n             estimator=Pipe...            (1, 1)   \n",
       "GridSearchCV(cv=5,\\n             estimator=Pipe...            (1, 1)   \n",
       "\n",
       "                                                   tvec__stop_words     score  \n",
       "GridSearchCV(cv=5,\\n             estimator=Pipe...             None  0.916336  \n",
       "GridSearchCV(cv=5,\\n             estimator=Pipe...             None  0.916336  \n",
       "GridSearchCV(cv=5,\\n             estimator=Pipe...             None  0.916336  "
      ]
     },
     "execution_count": 130,
     "metadata": {},
     "output_type": "execute_result"
    }
   ],
   "source": [
    "t_model_log_df"
   ]
  },
  {
   "cell_type": "code",
   "execution_count": 131,
   "metadata": {},
   "outputs": [
    {
     "name": "stdout",
     "output_type": "stream",
     "text": [
      "Multinomial Naive Bayes: 0.9175808380265547\n",
      "\n",
      "Logistic Regression: 0.9163358177976866\n"
     ]
    }
   ],
   "source": [
    "# best scores\n",
    "\n",
    "print(f'Multinomial Naive Bayes: {gs_tvec_nb.best_score_}')\n",
    "print(f'\\nLogistic Regression: {gs_tvec_log.best_score_}')"
   ]
  },
  {
   "cell_type": "code",
   "execution_count": 132,
   "metadata": {},
   "outputs": [
    {
     "name": "stdout",
     "output_type": "stream",
     "text": [
      "Multinomial Naive Bayes: 0.9307768924302788\n",
      "\n",
      "Logistic Regression: 0.9489541832669323\n"
     ]
    }
   ],
   "source": [
    "# train data accuracy score \n",
    "\n",
    "print(f'Multinomial Naive Bayes: {gs_tvec_nb.score(X_train, y_train)}')\n",
    "print(f'\\nLogistic Regression: {gs_tvec_log.score(X_train, y_train)}')"
   ]
  },
  {
   "cell_type": "code",
   "execution_count": 133,
   "metadata": {},
   "outputs": [
    {
     "name": "stdout",
     "output_type": "stream",
     "text": [
      "Multinomial Naive Bayes: 0.9242041435068217\n",
      "\n",
      "Logistic Regression: 0.9242041435068217\n"
     ]
    }
   ],
   "source": [
    "# test data accuracy score \n",
    "\n",
    "print(f'Multinomial Naive Bayes: {gs_tvec_nb.score(X_test, y_test)}')\n",
    "print(f'\\nLogistic Regression: {gs_tvec_log.score(X_test, y_test)}')"
   ]
  },
  {
   "cell_type": "code",
   "execution_count": 134,
   "metadata": {},
   "outputs": [
    {
     "name": "stdout",
     "output_type": "stream",
     "text": [
      "Multinomial Naive Bayes: \n",
      "Pipeline(steps=[('tvec',\n",
      "                 TfidfVectorizer(max_df=0.5, max_features=1500, min_df=0.002,\n",
      "                                 stop_words='english')),\n",
      "                ('nb', MultinomialNB())])\n",
      "\n",
      "Logistic Regression: \n",
      "Pipeline(steps=[('tvec',\n",
      "                 TfidfVectorizer(max_df=0.7, max_features=2500, min_df=0.004)),\n",
      "                ('log', LogisticRegression())])\n"
     ]
    }
   ],
   "source": [
    "# best estimators\n",
    "\n",
    "print(f'Multinomial Naive Bayes: \\n{gs_tvec_nb.best_estimator_}')\n",
    "print(f'\\nLogistic Regression: \\n{gs_tvec_log.best_estimator_}')"
   ]
  },
  {
   "cell_type": "code",
   "execution_count": 138,
   "metadata": {},
   "outputs": [
    {
     "name": "stdout",
     "output_type": "stream",
     "text": [
      "Multinomial Naive Bayes: \n",
      "{'tvec__max_df': 0.5, 'tvec__max_features': 1500, 'tvec__min_df': 0.002, 'tvec__ngram_range': (1, 1), 'tvec__stop_words': 'english', 'score': 0.9175808380265547}\n",
      "\n",
      "Logistic Regression: \n",
      "{'tvec__max_df': 0.7, 'tvec__max_features': 2500, 'tvec__min_df': 0.004, 'tvec__ngram_range': (1, 1), 'tvec__stop_words': None, 'score': 0.9163358177976866}\n"
     ]
    }
   ],
   "source": [
    "# best parameters\n",
    "\n",
    "print(f'Multinomial Naive Bayes: \\n{gs_tvec_nb.best_params_}')\n",
    "print(f'\\nLogistic Regression: \\n{gs_tvec_log.best_params_}')"
   ]
  },
  {
   "cell_type": "markdown",
   "metadata": {},
   "source": [
    "<blockquote>\n",
    "    Both of the models performed pretty well. Logistic regression model seems to be overfitted slightly. Multinomial Naive Bayes model would be the best model for the tfidf vectorization as well.\n",
    "    </blockquote>"
   ]
  },
  {
   "cell_type": "code",
   "execution_count": 136,
   "metadata": {},
   "outputs": [],
   "source": [
    "# predictions\n",
    "\n",
    "y_preds_t = gs_tvec_nb.predict(X_test)\n",
    "\n",
    "# confusion matrix values\n",
    "\n",
    "tn, fp, fn, tp = confusion_matrix(y_test, y_preds_t).ravel()"
   ]
  },
  {
   "cell_type": "code",
   "execution_count": 137,
   "metadata": {},
   "outputs": [
    {
     "data": {
      "image/png": "[encoded data removed]",
      "text/plain": [
       "<Figure size 432x288 with 2 Axes>"
      ]
     },
     "metadata": {
      "needs_background": "light"
     },
     "output_type": "display_data"
    }
   ],
   "source": [
    "# view confusion matrix\n",
    "\n",
    "plot_confusion_matrix(gs_tvec_nb, X_test, y_test, cmap = 'Blues', normalize = 'true');\n",
    "\n",
    "# this underperforms significantly compared to CountVectorizer "
   ]
  },
  {
   "cell_type": "markdown",
   "metadata": {},
   "source": [
    "#### Random Forest and Extra Trees"
   ]
  },
  {
   "cell_type": "code",
   "execution_count": 149,
   "metadata": {},
   "outputs": [],
   "source": [
    "# set 2 pipelines with: 3. Random Forest 4. Extra Trees\n",
    "\n",
    "# these 2 models are computationally exhausting (taking too long to run), so plugged in parameters instead using parameters\n",
    "# 1. n_estimators = 125 -> 250 -> 500 -> 1000\n",
    "# 2. max_depth = 4 -> 8 -> 16 -> 32\n",
    "# 3. min_samples_split = 4 -> 8 -> 16 -> 32\n",
    "# 4. random_state = 42\n",
    "\n",
    "pipeline_rf_t = Pipeline([\n",
    "                       ('tvec', TfidfVectorizer()),\n",
    "                       ('rf', RandomForestClassifier(n_estimators = 125, max_depth = 4, min_samples_split = 4, random_state = 42))\n",
    "                       ])\n",
    "\n",
    "pipeline_et_t = Pipeline([\n",
    "                        ('tvec', TfidfVectorizer()),\n",
    "                        ('et', ExtraTreesClassifier(n_estimators = 250, max_depth = 8, min_samples_split = 8, random_state = 42))\n",
    "                        ])\n",
    "\n",
    "# random forest score: \n",
    "# 0.88 -> 0.83 -> 0.77\n",
    "# extra trees score:\n",
    "# 0.74 -> 0.77 -> 0.77"
   ]
  },
  {
   "cell_type": "code",
   "execution_count": 150,
   "metadata": {},
   "outputs": [],
   "source": [
    "# inserted the best parameters from Multinomial Bayes and Logistic Regression\n",
    "\n",
    "tvec_params = {\n",
    "    'tvec__max_features': [1000, 1250], \n",
    "    'tvec__min_df': [0.001, 0.004, 0.005], \n",
    "    'tvec__max_df': [.4, .5], \n",
    "    'tvec__ngram_range': [(1, 1)],\n",
    "    'tvec__stop_words': ['english', None]\n",
    "               }"
   ]
  },
  {
   "cell_type": "code",
   "execution_count": 151,
   "metadata": {},
   "outputs": [],
   "source": [
    "# instantiate GridSearchCV - RandomForest\n",
    "\n",
    "gs_rf_t = GridSearchCV(pipeline_rf_t, \n",
    "                     param_grid = tvec_params, \n",
    "                     cv = 3) \n",
    "\n",
    "# instantiate GridSearchCV - ExtraTrees\n",
    "\n",
    "gs_et_t = GridSearchCV(pipeline_et_t, \n",
    "                      param_grid = tvec_params, \n",
    "                      cv = 3) "
   ]
  },
  {
   "cell_type": "code",
   "execution_count": 152,
   "metadata": {},
   "outputs": [
    {
     "name": "stdout",
     "output_type": "stream",
     "text": [
      "0.7771403523068812\n"
     ]
    },
    {
     "data": {
      "text/plain": [
       "{'tvec__max_df': 0.5,\n",
       " 'tvec__max_features': 1000,\n",
       " 'tvec__min_df': 0.005,\n",
       " 'tvec__ngram_range': (1, 1),\n",
       " 'tvec__stop_words': None}"
      ]
     },
     "execution_count": 152,
     "metadata": {},
     "output_type": "execute_result"
    }
   ],
   "source": [
    "# fit the training set\n",
    "\n",
    "gs_rf_t.fit(X_train, y_train)\n",
    "\n",
    "print(gs_rf_t.best_score_)\n",
    "gs_rf_t.best_params_"
   ]
  },
  {
   "cell_type": "code",
   "execution_count": 153,
   "metadata": {},
   "outputs": [
    {
     "name": "stdout",
     "output_type": "stream",
     "text": [
      "0.7724098962071881\n"
     ]
    },
    {
     "data": {
      "text/plain": [
       "{'tvec__max_df': 0.4,\n",
       " 'tvec__max_features': 1000,\n",
       " 'tvec__min_df': 0.004,\n",
       " 'tvec__ngram_range': (1, 1),\n",
       " 'tvec__stop_words': None}"
      ]
     },
     "execution_count": 153,
     "metadata": {},
     "output_type": "execute_result"
    }
   ],
   "source": [
    "# fit the training set\n",
    "\n",
    "gs_et_t.fit(X_train, y_train)\n",
    "\n",
    "print(gs_et_t.best_score_)\n",
    "gs_et_t.best_params_"
   ]
  },
  {
   "cell_type": "markdown",
   "metadata": {},
   "source": [
    "<blockquote>These 2 models are consistently underperforming even with the tweaking in hyper parameters. These are not good models.</blockquote>"
   ]
  },
  {
   "cell_type": "markdown",
   "metadata": {},
   "source": [
    "#### AdaBoost, GradientBoost, Decision Trees"
   ]
  },
  {
   "cell_type": "code",
   "execution_count": 198,
   "metadata": {},
   "outputs": [],
   "source": [
    "# create empty lists to store score and parameters\n",
    "\n",
    "score_t = []\n",
    "par_t = []"
   ]
  },
  {
   "cell_type": "code",
   "execution_count": 199,
   "metadata": {},
   "outputs": [],
   "source": [
    "# initiate voting classifier\n",
    "\n",
    "vote_t = VotingClassifier([\n",
    "    ('ada', AdaBoostClassifier()),\n",
    "    ('gb', GradientBoostingClassifier()),\n",
    "    ('tree', DecisionTreeClassifier())\n",
    "])\n",
    "\n",
    "# create pipeline -> countvectorize, then vote\n",
    "\n",
    "pipeline_vt_t = Pipeline([\n",
    "                       ('tvec', TfidfVectorizer()),\n",
    "                       ('vote', vote)\n",
    "                       ])\n",
    "\n",
    "# set parameters\n",
    "# start with the best parameters from above models for countvectorizer\n",
    "\n",
    "t_params = {\n",
    "    'tvec__max_features': [5500, 6000], \n",
    "    'tvec__min_df': [1, 2], \n",
    "    'tvec__max_df': [.85, .90, .95], \n",
    "    'tvec__ngram_range': [(1, 1)],\n",
    "    'tvec__stop_words': ['english', None], \n",
    "    'vote__ada__n_estimators' : [200, 300, 400],\n",
    "    'vote__gb__n_estimators' : [100, 200, 300],\n",
    "    'vote__tree__max_depth' : [8]\n",
    "}\n",
    "\n",
    "# try grid search for the best parameters\n",
    "\n",
    "gs_vote = GridSearchCV(pipeline_vt_t,\n",
    "                  param_grid = t_params,\n",
    "                  cv = 3)"
   ]
  },
  {
   "cell_type": "code",
   "execution_count": null,
   "metadata": {},
   "outputs": [],
   "source": [
    "# fit the training dataset\n",
    "\n",
    "gs_vote_t.fit(X_train, y_train)\n",
    "\n",
    "## this takes very long time to run - hours on and still running - aborted"
   ]
  },
  {
   "cell_type": "markdown",
   "metadata": {},
   "source": [
    "#### Support Vector Machine"
   ]
  },
  {
   "cell_type": "code",
   "execution_count": 259,
   "metadata": {},
   "outputs": [],
   "source": [
    "# instantiate SVM\n",
    "\n",
    "svc = SVC()\n",
    "\n",
    "# create a pipeline: countvectorize then svc\n",
    "\n",
    "pipeline_svc_t = Pipeline([\n",
    "    ('tvec', TfidfVectorizer()),\n",
    "    ('svc', SVC())\n",
    "])\n",
    "\n",
    "# define parameters\n",
    "\n",
    "params_t = {\n",
    "    'tvec__max_features': [5500], \n",
    "    'tvec__min_df': [0.002], \n",
    "    'tvec__max_df': [0.7], \n",
    "    'tvec__ngram_range': [(1, 1)],\n",
    "    'tvec__stop_words': [None], \n",
    "    'svc__kernel': ['polynomial', 'linear', 'sigmoid', 'rbf'],\n",
    "    'svc__C': [2],\n",
    "    'svc__degree': [3]\n",
    "}\n",
    "\n",
    "\n",
    "# generate a gridsearch model using pipeline and parameters\n",
    "\n",
    "gs_svc_t = GridSearchCV(pipeline_svc_t,\n",
    "                      params_t,\n",
    "                      cv = 5,\n",
    "                      verbose = 1\n",
    "                      ) # tried to run several jobs in parallel, but got an error saying that it will not run because of processing issue"
   ]
  },
  {
   "cell_type": "code",
   "execution_count": 260,
   "metadata": {},
   "outputs": [
    {
     "name": "stdout",
     "output_type": "stream",
     "text": [
      "Fitting 5 folds for each of 4 candidates, totalling 20 fits\n"
     ]
    },
    {
     "name": "stderr",
     "output_type": "stream",
     "text": [
      "[Parallel(n_jobs=1)]: Using backend SequentialBackend with 1 concurrent workers.\n",
      "[Parallel(n_jobs=1)]: Done  20 out of  20 | elapsed:   46.8s finished\n"
     ]
    },
    {
     "data": {
      "text/plain": [
       "GridSearchCV(cv=5,\n",
       "             estimator=Pipeline(steps=[('tvec', TfidfVectorizer()),\n",
       "                                       ('svc', SVC())]),\n",
       "             param_grid={'svc__C': [2], 'svc__degree': [3],\n",
       "                         'svc__kernel': ['polynomial', 'linear', 'sigmoid',\n",
       "                                         'rbf'],\n",
       "                         'tvec__max_df': [0.7], 'tvec__max_features': [5500],\n",
       "                         'tvec__min_df': [0.002], 'tvec__ngram_range': [(1, 1)],\n",
       "                         'tvec__stop_words': [None]},\n",
       "             verbose=1)"
      ]
     },
     "execution_count": 260,
     "metadata": {},
     "output_type": "execute_result"
    }
   ],
   "source": [
    "# fit the model\n",
    "\n",
    "gs_svc_t.fit(X_train, y_train)"
   ]
  },
  {
   "cell_type": "code",
   "execution_count": 261,
   "metadata": {},
   "outputs": [
    {
     "data": {
      "text/plain": [
       "0.9297841427978414"
      ]
     },
     "execution_count": 261,
     "metadata": {},
     "output_type": "execute_result"
    }
   ],
   "source": [
    "gs_svc_t.best_score_\n",
    "\n",
    "# 1. 0.925298795515174\n",
    "# 2. 0.9277891457568413\n",
    "# 3. 0.9297841427978414"
   ]
  },
  {
   "cell_type": "code",
   "execution_count": 262,
   "metadata": {},
   "outputs": [
    {
     "data": {
      "text/plain": [
       "{'svc__C': 2,\n",
       " 'svc__degree': 3,\n",
       " 'svc__kernel': 'rbf',\n",
       " 'tvec__max_df': 0.7,\n",
       " 'tvec__max_features': 5500,\n",
       " 'tvec__min_df': 0.002,\n",
       " 'tvec__ngram_range': (1, 1),\n",
       " 'tvec__stop_words': None}"
      ]
     },
     "execution_count": 262,
     "metadata": {},
     "output_type": "execute_result"
    }
   ],
   "source": [
    "gs_svc_t.best_params_\n",
    "\n",
    "# 1.\n",
    "#{'svc__C': 2.0,\n",
    "# 'svc__degree': 3,\n",
    "# 'svc__kernel': 'rbf',\n",
    "# 'tvec__max_df': 0.7,\n",
    "# 'tvec__max_features': 5500,\n",
    "# 'tvec__min_df': 0.002,\n",
    "# 'tvec__ngram_range': (1, 1),\n",
    "# 'tvec__stop_words': None}\n",
    "\n",
    "# 2.\n",
    "# {'svc__C': 2.0,\n",
    "# 'svc__degree': 3,\n",
    "# 'svc__kernel': 'rbf',\n",
    "# 'tvec__max_df': 0.7,\n",
    "# 'tvec__max_features': 5500,\n",
    "# 'tvec__min_df': 0.002,\n",
    "# 'tvec__ngram_range': (1, 1),\n",
    "# 'tvec__stop_words': None}\n",
    "# there is no change in parameters -> will compare kernels in SVC\n",
    "\n",
    "# 3.\n",
    "# {'svc__C': 2,\n",
    "# 'svc__degree': 3,\n",
    "# 'svc__kernel': 'rbf',\n",
    "# 'tvec__max_df': 0.7,\n",
    "# 'tvec__max_features': 5500,\n",
    "# 'tvec__min_df': 0.002,\n",
    "# 'tvec__ngram_range': (1, 1),\n",
    "# 'tvec__stop_words': None}"
   ]
  },
  {
   "cell_type": "code",
   "execution_count": 263,
   "metadata": {},
   "outputs": [
    {
     "data": {
      "text/plain": [
       "0.9972609561752988"
      ]
     },
     "execution_count": 263,
     "metadata": {},
     "output_type": "execute_result"
    }
   ],
   "source": [
    "# score the train dataset\n",
    "\n",
    "gs_svc_t.score(X_train, y_train)"
   ]
  },
  {
   "cell_type": "code",
   "execution_count": 264,
   "metadata": {},
   "outputs": [
    {
     "data": {
      "text/plain": [
       "0.9358261748357757"
      ]
     },
     "execution_count": 264,
     "metadata": {},
     "output_type": "execute_result"
    }
   ],
   "source": [
    "# score the test dataset\n",
    "\n",
    "gs_svc_t.score(X_test, y_test)"
   ]
  },
  {
   "cell_type": "markdown",
   "metadata": {},
   "source": [
    "<blockquote>Its best score was 93% and it got almost 100% in training dataset. However, it only scored to 93.6% suggesting it doesn't predict as well to new data. </blockquote>"
   ]
  },
  {
   "cell_type": "markdown",
   "metadata": {},
   "source": [
    "#### Gaussian Naive Bayes"
   ]
  },
  {
   "cell_type": "code",
   "execution_count": 282,
   "metadata": {},
   "outputs": [],
   "source": [
    "# adapted from https://stackoverflow.com/questions/28384680/scikit-learns-pipeline-a-sparse-matrix-was-passed-but-dense-data-is-required\n",
    "\n",
    "class DenseTransformer(TransformerMixin):\n",
    "    \n",
    "    def fit(self, X, y = None, **fit_params):\n",
    "        return self\n",
    "\n",
    "    def transform(self, X, y = None, **fit_params):\n",
    "        return X.toarray()"
   ]
  },
  {
   "cell_type": "code",
   "execution_count": 302,
   "metadata": {},
   "outputs": [],
   "source": [
    "# define pipeline\n",
    "\n",
    "pipe_gb = Pipeline([\n",
    "    ('tvec', TfidfVectorizer()),\n",
    "    (\"_\", DenseTransformer()),\n",
    "    ('gb', GaussianNB())\n",
    "])\n",
    "\n",
    "# set hyperparameters\n",
    "\n",
    "params_gb = {\n",
    "        'tvec__max_features': [750],\n",
    "        'tvec__max_df': [0.25, 0.3, 0.35, 0.4, 0.45],\n",
    "        'tvec__min_df': [0.0006, 0.0007, 0.0008],\n",
    "        'tvec__ngram_range': [(1,1), (1,2)],\n",
    "        'tvec__stop_words': [None, 'english']}\n",
    "\n",
    "# create gridsearch model with pipeline\n",
    "\n",
    "gs_gb = GridSearchCV(pipe_gb,\n",
    "                     param_grid = params_gb,\n",
    "                     cv = 5,\n",
    "                     verbose = 1,\n",
    "                     scoring = 'accuracy')"
   ]
  },
  {
   "cell_type": "code",
   "execution_count": 303,
   "metadata": {},
   "outputs": [
    {
     "name": "stdout",
     "output_type": "stream",
     "text": [
      "Fitting 5 folds for each of 60 candidates, totalling 300 fits\n"
     ]
    },
    {
     "name": "stderr",
     "output_type": "stream",
     "text": [
      "[Parallel(n_jobs=1)]: Using backend SequentialBackend with 1 concurrent workers.\n",
      "[Parallel(n_jobs=1)]: Done 300 out of 300 | elapsed:  2.1min finished\n"
     ]
    },
    {
     "data": {
      "text/plain": [
       "GridSearchCV(cv=5,\n",
       "             estimator=Pipeline(steps=[('tvec', TfidfVectorizer()),\n",
       "                                       ('_',\n",
       "                                        <__main__.DenseTransformer object at 0x7fe6d4719f50>),\n",
       "                                       ('gb', GaussianNB())]),\n",
       "             param_grid={'tvec__max_df': [0.25, 0.3, 0.35, 0.4, 0.45],\n",
       "                         'tvec__max_features': [750],\n",
       "                         'tvec__min_df': [0.0006, 0.0007, 0.0008],\n",
       "                         'tvec__ngram_range': [(1, 1), (1, 2)],\n",
       "                         'tvec__stop_words': [None, 'english']},\n",
       "             scoring='accuracy', verbose=1)"
      ]
     },
     "execution_count": 303,
     "metadata": {},
     "output_type": "execute_result"
    }
   ],
   "source": [
    "# fit the model\n",
    "\n",
    "gs_gb.fit(X_train, y_train)"
   ]
  },
  {
   "cell_type": "code",
   "execution_count": 304,
   "metadata": {},
   "outputs": [
    {
     "data": {
      "text/plain": [
       "0.855822382483597"
      ]
     },
     "execution_count": 304,
     "metadata": {},
     "output_type": "execute_result"
    }
   ],
   "source": [
    "gs_gb.best_score_\n",
    "\n",
    "# 1.\n",
    "# 0.8329138863589897\n",
    "# 2.\n",
    "# 0.8548258086900491\n",
    "# 3.\n",
    "# 0.855822382483597\n",
    "# 4.\n",
    "# 0.855822382483597 --> no change in score"
   ]
  },
  {
   "cell_type": "code",
   "execution_count": 305,
   "metadata": {},
   "outputs": [
    {
     "data": {
      "text/plain": [
       "{'tvec__max_df': 0.45,\n",
       " 'tvec__max_features': 750,\n",
       " 'tvec__min_df': 0.0006,\n",
       " 'tvec__ngram_range': (1, 1),\n",
       " 'tvec__stop_words': None}"
      ]
     },
     "execution_count": 305,
     "metadata": {},
     "output_type": "execute_result"
    }
   ],
   "source": [
    "gs_gb.best_params_\n",
    "\n",
    "# 1.\n",
    "# {'tvec__max_df': 0.5,\n",
    "# 'tvec__max_features': 1000,\n",
    "# 'tvec__min_df': 0.001,\n",
    "# 'tvec__ngram_range': (1, 2),\n",
    "# 'tvec__stop_words': None}\n",
    "\n",
    "# 2.\n",
    "# {'tvec__max_df': 0.5,\n",
    "# 'tvec__max_features': 750,\n",
    "# 'tvec__min_df': 0.001,\n",
    "# 'tvec__ngram_range': (1, 1),\n",
    "# 'tvec__stop_words': None}\n",
    "\n",
    "# 3.\n",
    "# {'tvec__max_df': 0.45,\n",
    "# 'tvec__max_features': 750,\n",
    "# 'tvec__min_df': 0.0008,\n",
    "# 'tvec__ngram_range': (1, 1),\n",
    "# 'tvec__stop_words': None}\n",
    "\n",
    "# 4.\n",
    "# {'tvec__max_df': 0.45,\n",
    "# 'tvec__max_features': 750,\n",
    "# 'tvec__min_df': 0.0006,\n",
    "# 'tvec__ngram_range': (1, 1),\n",
    "# 'tvec__stop_words': None} -> most of the parameters did not change from #3"
   ]
  },
  {
   "cell_type": "markdown",
   "metadata": {},
   "source": [
    "<blockquote>I thought this would have better score, however, it only scored 86% and the score doesn't seem to improve even with the hyperparameters. </blockquote>"
   ]
  },
  {
   "cell_type": "code",
   "execution_count": null,
   "metadata": {},
   "outputs": [],
   "source": []
  }
 ],
 "metadata": {
  "kernelspec": {
   "display_name": "Python 3",
   "language": "python",
   "name": "python3"
  },
  "language_info": {
   "codemirror_mode": {
    "name": "ipython",
    "version": 3
   },
   "file_extension": ".py",
   "mimetype": "text/x-python",
   "name": "python",
   "nbconvert_exporter": "python",
   "pygments_lexer": "ipython3",
   "version": "3.7.7"
  }
 },
 "nbformat": 4,
 "nbformat_minor": 4
}
